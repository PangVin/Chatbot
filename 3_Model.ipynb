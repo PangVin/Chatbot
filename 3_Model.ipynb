{
  "cells": [
    {
      "cell_type": "markdown",
      "metadata": {
        "id": "KtTIASoaixDV"
      },
      "source": [
        "# Importing all Libraries\n"
      ]
    },
    {
      "cell_type": "code",
      "execution_count": 22,
      "metadata": {
        "colab": {
          "base_uri": "https://localhost:8080/"
        },
        "id": "g8Rjhl5PirpD",
        "outputId": "0ee7aa71-2a93-48b5-a86d-cdf78eda4043"
      },
      "outputs": [
        {
          "name": "stderr",
          "output_type": "stream",
          "text": [
            "[nltk_data] Downloading package punkt to\n",
            "[nltk_data]     C:\\Users\\vincent\\AppData\\Roaming\\nltk_data...\n",
            "[nltk_data]   Package punkt is already up-to-date!\n",
            "[nltk_data] Downloading package stopwords to\n",
            "[nltk_data]     C:\\Users\\vincent\\AppData\\Roaming\\nltk_data...\n",
            "[nltk_data]   Package stopwords is already up-to-date!\n"
          ]
        }
      ],
      "source": [
        "import json\n",
        "import random\n",
        "import re\n",
        "\n",
        "import matplotlib.pyplot as plt\n",
        "import numpy as np\n",
        "import pandas as pd\n",
        "import plotly.graph_objects as go\n",
        "\n",
        "import nltk\n",
        "from nltk.corpus import stopwords\n",
        "from nltk.tokenize import word_tokenize\n",
        "nltk.download('punkt')\n",
        "nltk.download('stopwords')\n",
        "\n",
        "from sklearn.ensemble import RandomForestClassifier\n",
        "from sklearn.feature_extraction.text import TfidfVectorizer\n",
        "from sklearn.metrics import accuracy_score, precision_score, recall_score, f1_score, confusion_matrix\n",
        "from sklearn.neighbors import KNeighborsClassifier\n",
        "from sklearn.svm import SVC\n",
        "from sklearn.preprocessing import LabelEncoder\n",
        "\n",
        "import tensorflow as tf\n",
        "from tensorflow.keras.models import Sequential\n",
        "from tensorflow.keras.layers import Input, Embedding, LSTM, LayerNormalization, Dense, Dropout\n",
        "from tensorflow.keras.preprocessing.sequence import pad_sequences\n",
        "from tensorflow.keras.preprocessing.text import Tokenizer\n",
        "from tensorflow.keras.utils import plot_model\n"
      ]
    },
    {
      "cell_type": "markdown",
      "metadata": {
        "id": "HCrVtVoXi3Oo"
      },
      "source": [
        "# Open File Json"
      ]
    },
    {
      "cell_type": "code",
      "execution_count": 23,
      "metadata": {
        "colab": {
          "base_uri": "https://localhost:8080/",
          "height": 424
        },
        "id": "Ee1UlNJ8iszT",
        "outputId": "cfaa4f7f-e15d-418a-e2ce-3a64b525d6eb"
      },
      "outputs": [
        {
          "data": {
            "text/html": [
              "<div>\n",
              "<style scoped>\n",
              "    .dataframe tbody tr th:only-of-type {\n",
              "        vertical-align: middle;\n",
              "    }\n",
              "\n",
              "    .dataframe tbody tr th {\n",
              "        vertical-align: top;\n",
              "    }\n",
              "\n",
              "    .dataframe thead th {\n",
              "        text-align: right;\n",
              "    }\n",
              "</style>\n",
              "<table border=\"1\" class=\"dataframe\">\n",
              "  <thead>\n",
              "    <tr style=\"text-align: right;\">\n",
              "      <th></th>\n",
              "      <th>tag</th>\n",
              "      <th>patterns</th>\n",
              "      <th>responses</th>\n",
              "    </tr>\n",
              "  </thead>\n",
              "  <tbody>\n",
              "    <tr>\n",
              "      <th>0</th>\n",
              "      <td>greeting</td>\n",
              "      <td>[Hi, Hey, Is anyone there?, Hi there, Hello, H...</td>\n",
              "      <td>[Hello there. Tell me how are you feeling toda...</td>\n",
              "    </tr>\n",
              "    <tr>\n",
              "      <th>1</th>\n",
              "      <td>morning</td>\n",
              "      <td>[Good morning]</td>\n",
              "      <td>[Good morning. I hope you had a good night's s...</td>\n",
              "    </tr>\n",
              "    <tr>\n",
              "      <th>2</th>\n",
              "      <td>afternoon</td>\n",
              "      <td>[Good afternoon]</td>\n",
              "      <td>[Good afternoon. How is your day going?]</td>\n",
              "    </tr>\n",
              "    <tr>\n",
              "      <th>3</th>\n",
              "      <td>evening</td>\n",
              "      <td>[Good evening]</td>\n",
              "      <td>[Good evening. How has your day been?]</td>\n",
              "    </tr>\n",
              "    <tr>\n",
              "      <th>4</th>\n",
              "      <td>night</td>\n",
              "      <td>[Good night]</td>\n",
              "      <td>[Good night. Get some proper sleep, Good night...</td>\n",
              "    </tr>\n",
              "    <tr>\n",
              "      <th>...</th>\n",
              "      <td>...</td>\n",
              "      <td>...</td>\n",
              "      <td>...</td>\n",
              "    </tr>\n",
              "    <tr>\n",
              "      <th>125</th>\n",
              "      <td>i want to leave the cou ntry and run away</td>\n",
              "      <td>[i want to leave the cou ntry and run away]</td>\n",
              "      <td>[why do you want to spend so much on this thou...</td>\n",
              "    </tr>\n",
              "    <tr>\n",
              "      <th>126</th>\n",
              "      <td>i let everyojokne down</td>\n",
              "      <td>[i let everyojokne down]</td>\n",
              "      <td>[if you are the one who let them down you were...</td>\n",
              "    </tr>\n",
              "    <tr>\n",
              "      <th>127</th>\n",
              "      <td>i can't do this anymore</td>\n",
              "      <td>[i can't do this anymore]</td>\n",
              "      <td>[if you are really that exhausted you definite...</td>\n",
              "    </tr>\n",
              "    <tr>\n",
              "      <th>128</th>\n",
              "      <td>my time has come</td>\n",
              "      <td>[my time has come]</td>\n",
              "      <td>[yeahh!! the time has come for you to show the...</td>\n",
              "    </tr>\n",
              "    <tr>\n",
              "      <th>129</th>\n",
              "      <td>i am feeling anxious lately.</td>\n",
              "      <td>[i am feeling anxious lately.]</td>\n",
              "      <td>[i have heard that 3 3 3 rule is the best meth...</td>\n",
              "    </tr>\n",
              "  </tbody>\n",
              "</table>\n",
              "<p>130 rows × 3 columns</p>\n",
              "</div>"
            ],
            "text/plain": [
              "                                           tag  \\\n",
              "0                                     greeting   \n",
              "1                                      morning   \n",
              "2                                    afternoon   \n",
              "3                                      evening   \n",
              "4                                        night   \n",
              "..                                         ...   \n",
              "125  i want to leave the cou ntry and run away   \n",
              "126                     i let everyojokne down   \n",
              "127                    i can't do this anymore   \n",
              "128                           my time has come   \n",
              "129               i am feeling anxious lately.   \n",
              "\n",
              "                                              patterns  \\\n",
              "0    [Hi, Hey, Is anyone there?, Hi there, Hello, H...   \n",
              "1                                       [Good morning]   \n",
              "2                                     [Good afternoon]   \n",
              "3                                       [Good evening]   \n",
              "4                                         [Good night]   \n",
              "..                                                 ...   \n",
              "125        [i want to leave the cou ntry and run away]   \n",
              "126                           [i let everyojokne down]   \n",
              "127                          [i can't do this anymore]   \n",
              "128                                 [my time has come]   \n",
              "129                     [i am feeling anxious lately.]   \n",
              "\n",
              "                                             responses  \n",
              "0    [Hello there. Tell me how are you feeling toda...  \n",
              "1    [Good morning. I hope you had a good night's s...  \n",
              "2             [Good afternoon. How is your day going?]  \n",
              "3               [Good evening. How has your day been?]  \n",
              "4    [Good night. Get some proper sleep, Good night...  \n",
              "..                                                 ...  \n",
              "125  [why do you want to spend so much on this thou...  \n",
              "126  [if you are the one who let them down you were...  \n",
              "127  [if you are really that exhausted you definite...  \n",
              "128  [yeahh!! the time has come for you to show the...  \n",
              "129  [i have heard that 3 3 3 rule is the best meth...  \n",
              "\n",
              "[130 rows x 3 columns]"
            ]
          },
          "execution_count": 23,
          "metadata": {},
          "output_type": "execute_result"
        }
      ],
      "source": [
        "with open('intents.json', 'r') as f:\n",
        "    data = json.load(f)\n",
        "\n",
        "df = pd.DataFrame(data['intents'])\n",
        "df"
      ]
    },
    {
      "cell_type": "code",
      "execution_count": 24,
      "metadata": {
        "colab": {
          "base_uri": "https://localhost:8080/",
          "height": 424
        },
        "id": "9XIYt6-pC-_M",
        "outputId": "17e711e9-2320-49f5-a820-8ac53ce5feef"
      },
      "outputs": [
        {
          "data": {
            "text/html": [
              "<div>\n",
              "<style scoped>\n",
              "    .dataframe tbody tr th:only-of-type {\n",
              "        vertical-align: middle;\n",
              "    }\n",
              "\n",
              "    .dataframe tbody tr th {\n",
              "        vertical-align: top;\n",
              "    }\n",
              "\n",
              "    .dataframe thead th {\n",
              "        text-align: right;\n",
              "    }\n",
              "</style>\n",
              "<table border=\"1\" class=\"dataframe\">\n",
              "  <thead>\n",
              "    <tr style=\"text-align: right;\">\n",
              "      <th></th>\n",
              "      <th>tag</th>\n",
              "      <th>patterns</th>\n",
              "      <th>responses</th>\n",
              "    </tr>\n",
              "  </thead>\n",
              "  <tbody>\n",
              "    <tr>\n",
              "      <th>0</th>\n",
              "      <td>greeting</td>\n",
              "      <td>Hi</td>\n",
              "      <td>[Hello there. Tell me how are you feeling toda...</td>\n",
              "    </tr>\n",
              "    <tr>\n",
              "      <th>1</th>\n",
              "      <td>greeting</td>\n",
              "      <td>Hey</td>\n",
              "      <td>[Hello there. Tell me how are you feeling toda...</td>\n",
              "    </tr>\n",
              "    <tr>\n",
              "      <th>2</th>\n",
              "      <td>greeting</td>\n",
              "      <td>Is anyone there?</td>\n",
              "      <td>[Hello there. Tell me how are you feeling toda...</td>\n",
              "    </tr>\n",
              "    <tr>\n",
              "      <th>3</th>\n",
              "      <td>greeting</td>\n",
              "      <td>Hi there</td>\n",
              "      <td>[Hello there. Tell me how are you feeling toda...</td>\n",
              "    </tr>\n",
              "    <tr>\n",
              "      <th>4</th>\n",
              "      <td>greeting</td>\n",
              "      <td>Hello</td>\n",
              "      <td>[Hello there. Tell me how are you feeling toda...</td>\n",
              "    </tr>\n",
              "    <tr>\n",
              "      <th>...</th>\n",
              "      <td>...</td>\n",
              "      <td>...</td>\n",
              "      <td>...</td>\n",
              "    </tr>\n",
              "    <tr>\n",
              "      <th>278</th>\n",
              "      <td>i want to leave the cou ntry and run away</td>\n",
              "      <td>i want to leave the cou ntry and run away</td>\n",
              "      <td>[why do you want to spend so much on this thou...</td>\n",
              "    </tr>\n",
              "    <tr>\n",
              "      <th>279</th>\n",
              "      <td>i let everyojokne down</td>\n",
              "      <td>i let everyojokne down</td>\n",
              "      <td>[if you are the one who let them down you were...</td>\n",
              "    </tr>\n",
              "    <tr>\n",
              "      <th>280</th>\n",
              "      <td>i can't do this anymore</td>\n",
              "      <td>i can't do this anymore</td>\n",
              "      <td>[if you are really that exhausted you definite...</td>\n",
              "    </tr>\n",
              "    <tr>\n",
              "      <th>281</th>\n",
              "      <td>my time has come</td>\n",
              "      <td>my time has come</td>\n",
              "      <td>[yeahh!! the time has come for you to show the...</td>\n",
              "    </tr>\n",
              "    <tr>\n",
              "      <th>282</th>\n",
              "      <td>i am feeling anxious lately.</td>\n",
              "      <td>i am feeling anxious lately.</td>\n",
              "      <td>[i have heard that 3 3 3 rule is the best meth...</td>\n",
              "    </tr>\n",
              "  </tbody>\n",
              "</table>\n",
              "<p>283 rows × 3 columns</p>\n",
              "</div>"
            ],
            "text/plain": [
              "                                           tag  \\\n",
              "0                                     greeting   \n",
              "1                                     greeting   \n",
              "2                                     greeting   \n",
              "3                                     greeting   \n",
              "4                                     greeting   \n",
              "..                                         ...   \n",
              "278  i want to leave the cou ntry and run away   \n",
              "279                     i let everyojokne down   \n",
              "280                    i can't do this anymore   \n",
              "281                           my time has come   \n",
              "282               i am feeling anxious lately.   \n",
              "\n",
              "                                      patterns  \\\n",
              "0                                           Hi   \n",
              "1                                          Hey   \n",
              "2                             Is anyone there?   \n",
              "3                                     Hi there   \n",
              "4                                        Hello   \n",
              "..                                         ...   \n",
              "278  i want to leave the cou ntry and run away   \n",
              "279                     i let everyojokne down   \n",
              "280                    i can't do this anymore   \n",
              "281                           my time has come   \n",
              "282               i am feeling anxious lately.   \n",
              "\n",
              "                                             responses  \n",
              "0    [Hello there. Tell me how are you feeling toda...  \n",
              "1    [Hello there. Tell me how are you feeling toda...  \n",
              "2    [Hello there. Tell me how are you feeling toda...  \n",
              "3    [Hello there. Tell me how are you feeling toda...  \n",
              "4    [Hello there. Tell me how are you feeling toda...  \n",
              "..                                                 ...  \n",
              "278  [why do you want to spend so much on this thou...  \n",
              "279  [if you are the one who let them down you were...  \n",
              "280  [if you are really that exhausted you definite...  \n",
              "281  [yeahh!! the time has come for you to show the...  \n",
              "282  [i have heard that 3 3 3 rule is the best meth...  \n",
              "\n",
              "[283 rows x 3 columns]"
            ]
          },
          "execution_count": 24,
          "metadata": {},
          "output_type": "execute_result"
        }
      ],
      "source": [
        "dic = {\"tag\":[], \"patterns\":[], \"responses\":[]}\n",
        "for i in range(len(df)):\n",
        "    ptrns = df[df.index == i]['patterns'].values[0]\n",
        "    rspns = df[df.index == i]['responses'].values[0]\n",
        "    tag = df[df.index == i]['tag'].values[0]\n",
        "    for j in range(len(ptrns)):\n",
        "        dic['tag'].append(tag)\n",
        "        dic['patterns'].append(ptrns[j])\n",
        "        dic['responses'].append(rspns)\n",
        "\n",
        "df = pd.DataFrame.from_dict(dic)\n",
        "df"
      ]
    },
    {
      "cell_type": "markdown",
      "metadata": {
        "id": "YF2BwWwjj-yn"
      },
      "source": [
        "# data preparation\n"
      ]
    },
    {
      "cell_type": "markdown",
      "metadata": {
        "id": "EvWrGw8Ilgf3"
      },
      "source": [
        "# Data Processing"
      ]
    },
    {
      "cell_type": "code",
      "execution_count": 25,
      "metadata": {
        "colab": {
          "base_uri": "https://localhost:8080/"
        },
        "id": "l7RfUZTmD2_x",
        "outputId": "6ad25462-164f-4250-c530-c3b0f48efb06"
      },
      "outputs": [
        {
          "data": {
            "text/plain": [
              "array(['greeting', 'morning', 'afternoon', 'evening', 'night', 'goodbye',\n",
              "       'thanks', 'no-response', 'neutral-response', 'about',\n",
              "       'what is depression?', 'skill', 'creation', 'help', 'sad',\n",
              "       'stressed', 'worthless', 'depressed', 'happy', 'casual', 'anxious',\n",
              "       'not-talking', 'sleep', 'scared', 'death', 'understand', 'done',\n",
              "       'suicide', 'hate-you', 'hate-me', 'default', 'jokes', 'repeat',\n",
              "       'wrong', 'stupid', 'location', 'something-else', 'friends', 'ask',\n",
              "       'problem', 'no-approach', 'learn-more', 'user-agree', 'meditation',\n",
              "       'user-meditation', 'jamila-useful', 'user-advice',\n",
              "       'learn-mental-health', 'mental-health-fact', 'fact-1', 'fact-2',\n",
              "       'fact-3', 'fact-5', 'fact-6', 'fact-7', 'fact-8', 'fact-9',\n",
              "       'fact-10', 'fact-11', 'fact-12', 'fact-13', 'fact-14', 'fact-15',\n",
              "       'fact-16', 'fact-17', 'fact-18', 'fact-19', 'fact-20', 'fact-21',\n",
              "       'fact-22', 'fact-23', 'fact-24', 'fact-25', 'fact-26', 'fact-27',\n",
              "       'fact-28', 'fact-29', 'fact-30', 'fact-31', 'fact-32',\n",
              "       'i feel i have let my parents down',\n",
              "       'What are the types of depression?', 'i am good for nothing.',\n",
              "       'i am feeling stressed lately', 'i want to kill myself',\n",
              "       'i am afraid i will fail again',\n",
              "       'what are the causes of depression?',\n",
              "       'what are the top causes of depression?',\n",
              "       'which age group has the highest rate of depression?',\n",
              "       'which country has the highest rate of depression?',\n",
              "       'which country has the lowest rate of depression?',\n",
              "       'is school a cause of depression?',\n",
              "       'what is the biological cause of depression?',\n",
              "       'how does depression affect the world?',\n",
              "       'which race has the highest rate of depression?',\n",
              "       'what is the meaning of anxiety and depression?',\n",
              "       'does oversleeping cause depression?',\n",
              "       'can lack of sleep make you feel sad?',\n",
              "       'is depression a side effect of diabetes?',\n",
              "       'can low blood sugar cause suicidal thoughts?',\n",
              "       'how long can anxiety last?', 'what are the stages of anxiety?',\n",
              "       'at what age does anxiety peak?', 'why is anxiety bad for you?',\n",
              "       'what is the 3 3 3 rule for anxiety?',\n",
              "       'do we control our thoughts?',\n",
              "       'how many thoughts a day do we have?',\n",
              "       'how can we reduce anxiety?', 'i am lonely!', 'no one likes me!',\n",
              "       'i think i am ugly!', 'i am good for nothing!',\n",
              "       'i wish i was better than them', 'i hate myself!',\n",
              "       \"i wish i could've been a winner\", 'i hate losing.',\n",
              "       \"i think i'm losing my mind\", 'i want a break',\n",
              "       'i am stressed out', 'i will never succeed in life', 'i am sad',\n",
              "       'i am a victim of bullying',\n",
              "       'i am afraid to file a case against bullying', 'i wish to quit',\n",
              "       'i want to leave the cou ntry and run away',\n",
              "       'i let everyojokne down', \"i can't do this anymore\",\n",
              "       'my time has come', 'i am feeling anxious lately.'], dtype=object)"
            ]
          },
          "execution_count": 25,
          "metadata": {},
          "output_type": "execute_result"
        }
      ],
      "source": [
        "df['tag'].unique()"
      ]
    },
    {
      "cell_type": "markdown",
      "metadata": {
        "id": "TF6pLDkLlj0Y"
      },
      "source": [
        "Cleaning Text"
      ]
    },
    {
      "cell_type": "code",
      "execution_count": 26,
      "metadata": {
        "id": "i4OKSeqlllTE"
      },
      "outputs": [],
      "source": [
        "def clean_text(text):\n",
        "    text = text.lower()\n",
        "    text = re.sub(r'[^a-z\\s]', '', text)\n",
        "    tokens = word_tokenize(text)\n",
        "    tokens = [word for word in tokens if word not in stopwords.words('english')]\n",
        "    return ' '.join(tokens)"
      ]
    },
    {
      "cell_type": "markdown",
      "metadata": {
        "id": "klsCuNLZlsYP"
      },
      "source": [
        "Cleaning Pattern"
      ]
    },
    {
      "cell_type": "code",
      "execution_count": 27,
      "metadata": {
        "id": "lcAe5EtqluC0"
      },
      "outputs": [],
      "source": [
        "df['cleaned_patterns'] = df['patterns'].apply(clean_text)"
      ]
    },
    {
      "cell_type": "code",
      "execution_count": 28,
      "metadata": {
        "colab": {
          "base_uri": "https://localhost:8080/"
        },
        "id": "PC46Jt20lzUp",
        "outputId": "1ee52a7d-3927-45bf-eb76-7c3be3f53bd6"
      },
      "outputs": [
        {
          "name": "stdout",
          "output_type": "stream",
          "text": [
            "\n",
            "Original Patterns:\n",
            "Hi\n",
            "Hey\n",
            "Is anyone there?\n",
            "Hi there\n",
            "Hello\n"
          ]
        }
      ],
      "source": [
        "print(\"\\nOriginal Patterns:\")\n",
        "for p in df['patterns'][:5]:  # Menampilkan contoh dari pola awal\n",
        "    print(p)"
      ]
    },
    {
      "cell_type": "code",
      "execution_count": 29,
      "metadata": {
        "colab": {
          "base_uri": "https://localhost:8080/"
        },
        "id": "vz7rGTEsl0ec",
        "outputId": "62df292b-d20a-451d-dfb2-46e69c38ba40"
      },
      "outputs": [
        {
          "name": "stdout",
          "output_type": "stream",
          "text": [
            "\n",
            "Cleaned Patterns:\n",
            "hi\n",
            "hey\n",
            "anyone\n",
            "hi\n",
            "hello\n"
          ]
        }
      ],
      "source": [
        "print(\"\\nCleaned Patterns:\")\n",
        "for cp in df['cleaned_patterns'][:5]:  # Menampilkan contoh dari pola yang telah dibersihkan\n",
        "    print(cp)"
      ]
    },
    {
      "cell_type": "markdown",
      "metadata": {
        "id": "0-2xfUgbRd2H"
      },
      "source": [
        "#Contoh"
      ]
    },
    {
      "cell_type": "code",
      "execution_count": 30,
      "metadata": {
        "colab": {
          "base_uri": "https://localhost:8080/"
        },
        "id": "jL8B9BQVRAej",
        "outputId": "7a6e659c-820b-4c92-b166-506591131ead"
      },
      "outputs": [
        {
          "name": "stdout",
          "output_type": "stream",
          "text": [
            "kalimat sebelum di clean:  Chatbots in mental health provide immediate support and resources for individuals struggling with anxiety and depression.\n",
            "kalimat setelah di clean:  chatbots mental health provide immediate support resources individuals struggling anxiety depression\n"
          ]
        }
      ],
      "source": [
        "kata = ('Chatbots in mental health provide immediate support and resources for individuals struggling with anxiety and depression.')\n",
        "kata2 = clean_text(kata)\n",
        "print('kalimat sebelum di clean: ', kata)\n",
        "print('kalimat setelah di clean: ', kata2)"
      ]
    },
    {
      "cell_type": "code",
      "execution_count": null,
      "metadata": {
        "id": "CbB_-_nBRNuv"
      },
      "outputs": [],
      "source": []
    },
    {
      "cell_type": "code",
      "execution_count": 31,
      "metadata": {
        "colab": {
          "base_uri": "https://localhost:8080/"
        },
        "id": "VGlKsX7lD4v8",
        "outputId": "70654425-8d39-49f6-d115-09fb0dcdd8bc"
      },
      "outputs": [
        {
          "data": {
            "text/plain": [
              "{'num_words': None,\n",
              " 'filters': '!\"#$%&()*+,-./:;<=>?@[\\\\]^_`{|}~\\t\\n',\n",
              " 'lower': True,\n",
              " 'split': ' ',\n",
              " 'char_level': False,\n",
              " 'oov_token': None,\n",
              " 'document_count': 283,\n",
              " 'word_counts': '{\"hi\": 2, \"hey\": 2, \"anyone\": 2, \"hello\": 1, \"howdy\": 1, \"hola\": 1, \"bonjour\": 1, \"hay\": 1, \"sasa\": 1, \"good\": 9, \"evening\": 2, \"afternoon\": 2, \"morning\": 1, \"night\": 1, \"bye\": 3, \"see\": 2, \"later\": 1, \"goodbye\": 1, \"au\": 1, \"revoir\": 1, \"sayonara\": 1, \"ok\": 4, \"fare\": 1, \"thee\": 1, \"well\": 2, \"thanks\": 2, \"thank\": 3, \"thats\": 3, \"helpful\": 1, \"help\": 6, \"much\": 4, \"nothing\": 7, \"really\": 3, \"tell\": 6, \"name\": 2, \"call\": 1, \"whats\": 3, \"depression\": 22, \"created\": 2, \"made\": 1, \"could\": 2, \"give\": 1, \"hand\": 1, \"please\": 2, \"need\": 6, \"support\": 3, \"feeling\": 3, \"lonely\": 5, \"feel\": 18, \"sad\": 4, \"empty\": 1, \"dont\": 11, \"stressed\": 6, \"stuck\": 1, \"still\": 1, \"burned\": 1, \"worthless\": 1, \"one\": 2, \"likes\": 2, \"cant\": 8, \"anything\": 2, \"useless\": 2, \"makes\": 1, \"sense\": 2, \"anymore\": 3, \"take\": 1, \"depressed\": 3, \"think\": 5, \"im\": 10, \"great\": 1, \"today\": 1, \"happy\": 2, \"cheerful\": 1, \"fine\": 2, \"oh\": 1, \"okay\": 1, \"nice\": 1, \"whatever\": 1, \"k\": 1, \"yeah\": 3, \"yes\": 2, \"anxious\": 3, \"want\": 12, \"talk\": 5, \"stay\": 1, \"away\": 5, \"bring\": 1, \"open\": 1, \"shut\": 1, \"insominia\": 1, \"suffering\": 2, \"insomnia\": 1, \"sleep\": 4, \"havent\": 2, \"slept\": 1, \"last\": 2, \"days\": 2, \"seem\": 1, \"go\": 3, \"proper\": 1, \"past\": 1, \"scared\": 2, \"sounds\": 3, \"awful\": 1, \"way\": 1, \"mom\": 1, \"died\": 3, \"brother\": 1, \"dad\": 1, \"passed\": 3, \"sister\": 1, \"someone\": 2, \"family\": 2, \"friend\": 1, \"understand\": 1, \"youre\": 5, \"robot\": 1, \"would\": 5, \"know\": 8, \"possibly\": 1, \"going\": 3, \"nobody\": 1, \"understands\": 1, \"say\": 2, \"else\": 4, \"kill\": 3, \"ive\": 2, \"thought\": 1, \"killing\": 1, \"die\": 1, \"commit\": 1, \"suicide\": 1, \"hate\": 5, \"like\": 6, \"trust\": 1, \"exams\": 4, \"friends\": 2, \"relationship\": 1, \"boyfriend\": 1, \"girlfriend\": 1, \"money\": 1, \"financial\": 1, \"problems\": 5, \"joke\": 2, \"another\": 2, \"already\": 2, \"told\": 1, \"mentioned\": 1, \"repeating\": 1, \"saying\": 1, \"doesnt\": 1, \"make\": 2, \"wrong\": 2, \"response\": 1, \"answer\": 1, \"stupid\": 1, \"crazy\": 1, \"dumb\": 2, \"live\": 1, \"location\": 1, \"something\": 4, \"lets\": 1, \"ask\": 1, \"probably\": 2, \"approaching\": 1, \"prepared\": 1, \"enough\": 1, \"guess\": 2, \"sure\": 1, \"learn\": 6, \"right\": 3, \"deserve\": 1, \"break\": 2, \"absolutely\": 1, \"hmmm\": 1, \"useful\": 2, \"said\": 1, \"alot\": 1, \"better\": 3, \"ill\": 2, \"continue\": 1, \"practicing\": 1, \"meditation\": 1, \"focus\": 1, \"control\": 2, \"advice\": 3, \"mental\": 25, \"health\": 19, \"interested\": 1, \"learning\": 1, \"fact\": 2, \"define\": 2, \"important\": 1, \"importance\": 1, \"mentally\": 1, \"therapist\": 2, \"therapy\": 4, \"mean\": 1, \"illness\": 5, \"affect\": 2, \"causes\": 4, \"warning\": 1, \"signs\": 1, \"people\": 1, \"recover\": 1, \"appears\": 1, \"symptoms\": 1, \"disorder\": 1, \"find\": 4, \"professional\": 2, \"child\": 2, \"treatment\": 3, \"options\": 1, \"available\": 1, \"become\": 1, \"involved\": 1, \"difference\": 4, \"professionals\": 2, \"get\": 1, \"starting\": 1, \"new\": 1, \"medication\": 1, \"types\": 3, \"different\": 1, \"group\": 2, \"prevent\": 1, \"cures\": 1, \"cure\": 1, \"worried\": 1, \"unwell\": 1, \"maintain\": 1, \"social\": 1, \"connections\": 1, \"anxiety\": 8, \"stress\": 1, \"sadness\": 2, \"let\": 2, \"parents\": 1, \"lately\": 2, \"afraid\": 2, \"fail\": 1, \"top\": 1, \"age\": 2, \"highest\": 3, \"rate\": 4, \"country\": 2, \"lowest\": 1, \"school\": 1, \"cause\": 4, \"biological\": 1, \"world\": 1, \"race\": 1, \"meaning\": 1, \"oversleeping\": 1, \"lack\": 1, \"side\": 1, \"effect\": 1, \"diabetes\": 1, \"low\": 1, \"blood\": 1, \"sugar\": 1, \"suicidal\": 1, \"thoughts\": 3, \"long\": 1, \"stages\": 1, \"peak\": 1, \"bad\": 1, \"rule\": 1, \"many\": 1, \"day\": 1, \"reduce\": 1, \"ugly\": 1, \"wish\": 3, \"couldve\": 1, \"winner\": 1, \"losing\": 2, \"mind\": 1, \"never\": 1, \"succeed\": 1, \"life\": 1, \"victim\": 1, \"bullying\": 2, \"file\": 1, \"case\": 1, \"quit\": 1, \"leave\": 1, \"cou\": 1, \"ntry\": 1, \"run\": 1, \"everyojokne\": 1, \"time\": 1, \"come\": 1}',\n",
              " 'word_docs': '{\"hi\": 2, \"hey\": 2, \"anyone\": 2, \"hello\": 1, \"howdy\": 1, \"hola\": 1, \"bonjour\": 1, \"hay\": 1, \"sasa\": 1, \"good\": 9, \"evening\": 2, \"afternoon\": 2, \"morning\": 1, \"night\": 1, \"bye\": 3, \"later\": 1, \"see\": 2, \"goodbye\": 1, \"au\": 1, \"revoir\": 1, \"sayonara\": 1, \"ok\": 4, \"fare\": 1, \"well\": 2, \"thee\": 1, \"thanks\": 2, \"thank\": 3, \"helpful\": 1, \"thats\": 3, \"help\": 6, \"much\": 4, \"nothing\": 7, \"really\": 3, \"tell\": 6, \"name\": 2, \"call\": 1, \"whats\": 3, \"depression\": 22, \"created\": 2, \"made\": 1, \"could\": 2, \"hand\": 1, \"please\": 2, \"give\": 1, \"support\": 3, \"need\": 6, \"feeling\": 3, \"lonely\": 5, \"feel\": 18, \"sad\": 4, \"empty\": 1, \"dont\": 11, \"stressed\": 6, \"stuck\": 1, \"still\": 1, \"burned\": 1, \"worthless\": 1, \"one\": 2, \"likes\": 2, \"anything\": 2, \"cant\": 8, \"useless\": 2, \"makes\": 1, \"sense\": 2, \"anymore\": 3, \"take\": 1, \"depressed\": 3, \"think\": 5, \"im\": 10, \"today\": 1, \"great\": 1, \"happy\": 2, \"cheerful\": 1, \"fine\": 2, \"oh\": 1, \"okay\": 1, \"nice\": 1, \"whatever\": 1, \"k\": 1, \"yeah\": 3, \"yes\": 2, \"anxious\": 3, \"want\": 12, \"talk\": 5, \"away\": 5, \"stay\": 1, \"open\": 1, \"bring\": 1, \"shut\": 1, \"insominia\": 1, \"suffering\": 2, \"insomnia\": 1, \"sleep\": 4, \"havent\": 2, \"slept\": 1, \"days\": 2, \"last\": 2, \"seem\": 1, \"go\": 3, \"proper\": 1, \"past\": 1, \"scared\": 2, \"awful\": 1, \"sounds\": 3, \"way\": 1, \"mom\": 1, \"died\": 3, \"brother\": 1, \"dad\": 1, \"passed\": 3, \"sister\": 1, \"family\": 2, \"someone\": 2, \"friend\": 1, \"understand\": 1, \"would\": 5, \"youre\": 5, \"robot\": 1, \"know\": 8, \"going\": 3, \"possibly\": 1, \"nobody\": 1, \"understands\": 1, \"say\": 2, \"else\": 4, \"kill\": 3, \"ive\": 2, \"killing\": 1, \"thought\": 1, \"die\": 1, \"commit\": 1, \"suicide\": 1, \"hate\": 5, \"like\": 6, \"trust\": 1, \"exams\": 4, \"friends\": 2, \"relationship\": 1, \"boyfriend\": 1, \"girlfriend\": 1, \"money\": 1, \"financial\": 1, \"problems\": 5, \"joke\": 2, \"another\": 2, \"already\": 2, \"told\": 1, \"mentioned\": 1, \"repeating\": 1, \"saying\": 1, \"make\": 2, \"doesnt\": 1, \"wrong\": 2, \"response\": 1, \"answer\": 1, \"stupid\": 1, \"crazy\": 1, \"dumb\": 2, \"live\": 1, \"location\": 1, \"something\": 4, \"lets\": 1, \"ask\": 1, \"probably\": 2, \"prepared\": 1, \"enough\": 1, \"approaching\": 1, \"guess\": 2, \"learn\": 6, \"sure\": 1, \"deserve\": 1, \"break\": 2, \"right\": 3, \"absolutely\": 1, \"hmmm\": 1, \"useful\": 2, \"said\": 1, \"alot\": 1, \"better\": 3, \"meditation\": 1, \"practicing\": 1, \"continue\": 1, \"ill\": 2, \"focus\": 1, \"control\": 2, \"advice\": 3, \"mental\": 25, \"health\": 19, \"interested\": 1, \"learning\": 1, \"fact\": 2, \"define\": 2, \"important\": 1, \"importance\": 1, \"mentally\": 1, \"therapist\": 2, \"therapy\": 4, \"illness\": 5, \"mean\": 1, \"affect\": 2, \"causes\": 4, \"signs\": 1, \"warning\": 1, \"people\": 1, \"recover\": 1, \"disorder\": 1, \"symptoms\": 1, \"appears\": 1, \"child\": 2, \"professional\": 2, \"find\": 4, \"treatment\": 3, \"available\": 1, \"options\": 1, \"involved\": 1, \"become\": 1, \"difference\": 4, \"professionals\": 2, \"get\": 1, \"new\": 1, \"starting\": 1, \"medication\": 1, \"types\": 3, \"different\": 1, \"group\": 2, \"prevent\": 1, \"cures\": 1, \"cure\": 1, \"worried\": 1, \"unwell\": 1, \"connections\": 1, \"social\": 1, \"maintain\": 1, \"anxiety\": 8, \"stress\": 1, \"sadness\": 2, \"parents\": 1, \"let\": 2, \"lately\": 2, \"fail\": 1, \"afraid\": 2, \"top\": 1, \"age\": 2, \"rate\": 4, \"highest\": 3, \"country\": 2, \"lowest\": 1, \"school\": 1, \"cause\": 4, \"biological\": 1, \"world\": 1, \"race\": 1, \"meaning\": 1, \"oversleeping\": 1, \"lack\": 1, \"side\": 1, \"diabetes\": 1, \"effect\": 1, \"sugar\": 1, \"suicidal\": 1, \"low\": 1, \"blood\": 1, \"thoughts\": 3, \"long\": 1, \"stages\": 1, \"peak\": 1, \"bad\": 1, \"rule\": 1, \"many\": 1, \"day\": 1, \"reduce\": 1, \"ugly\": 1, \"wish\": 3, \"couldve\": 1, \"winner\": 1, \"losing\": 2, \"mind\": 1, \"never\": 1, \"life\": 1, \"succeed\": 1, \"victim\": 1, \"bullying\": 2, \"file\": 1, \"case\": 1, \"quit\": 1, \"run\": 1, \"leave\": 1, \"ntry\": 1, \"cou\": 1, \"everyojokne\": 1, \"time\": 1, \"come\": 1}',\n",
              " 'index_docs': '{\"66\": 2, \"67\": 2, \"68\": 2, \"124\": 1, \"125\": 1, \"126\": 1, \"127\": 1, \"128\": 1, \"129\": 1, \"8\": 9, \"69\": 2, \"70\": 2, \"130\": 1, \"131\": 1, \"41\": 3, \"132\": 1, \"71\": 2, \"133\": 1, \"134\": 1, \"135\": 1, \"136\": 1, \"28\": 4, \"137\": 1, \"72\": 2, \"138\": 1, \"73\": 2, \"42\": 3, \"139\": 1, \"43\": 3, \"13\": 6, \"29\": 4, \"12\": 7, \"44\": 3, \"14\": 6, \"74\": 2, \"140\": 1, \"45\": 3, \"2\": 22, \"75\": 2, \"141\": 1, \"76\": 2, \"143\": 1, \"77\": 2, \"142\": 1, \"46\": 3, \"15\": 6, \"47\": 3, \"19\": 5, \"4\": 18, \"30\": 4, \"144\": 1, \"6\": 11, \"16\": 6, \"145\": 1, \"146\": 1, \"147\": 1, \"148\": 1, \"78\": 2, \"79\": 2, \"80\": 2, \"9\": 8, \"81\": 2, \"149\": 1, \"82\": 2, \"48\": 3, \"150\": 1, \"49\": 3, \"20\": 5, \"7\": 10, \"152\": 1, \"151\": 1, \"83\": 2, \"153\": 1, \"84\": 2, \"154\": 1, \"155\": 1, \"156\": 1, \"157\": 1, \"158\": 1, \"50\": 3, \"85\": 2, \"51\": 3, \"5\": 12, \"21\": 5, \"22\": 5, \"159\": 1, \"161\": 1, \"160\": 1, \"162\": 1, \"163\": 1, \"86\": 2, \"164\": 1, \"31\": 4, \"87\": 2, \"165\": 1, \"89\": 2, \"88\": 2, \"166\": 1, \"52\": 3, \"167\": 1, \"168\": 1, \"90\": 2, \"169\": 1, \"53\": 3, \"170\": 1, \"171\": 1, \"54\": 3, \"172\": 1, \"173\": 1, \"55\": 3, \"174\": 1, \"92\": 2, \"91\": 2, \"175\": 1, \"176\": 1, \"24\": 5, \"23\": 5, \"177\": 1, \"10\": 8, \"56\": 3, \"178\": 1, \"179\": 1, \"180\": 1, \"93\": 2, \"32\": 4, \"57\": 3, \"94\": 2, \"182\": 1, \"181\": 1, \"183\": 1, \"184\": 1, \"185\": 1, \"25\": 5, \"17\": 6, \"186\": 1, \"33\": 4, \"95\": 2, \"187\": 1, \"188\": 1, \"189\": 1, \"190\": 1, \"191\": 1, \"26\": 5, \"96\": 2, \"97\": 2, \"98\": 2, \"192\": 1, \"193\": 1, \"194\": 1, \"195\": 1, \"99\": 2, \"196\": 1, \"100\": 2, \"197\": 1, \"198\": 1, \"199\": 1, \"200\": 1, \"101\": 2, \"201\": 1, \"202\": 1, \"34\": 4, \"203\": 1, \"204\": 1, \"102\": 2, \"206\": 1, \"207\": 1, \"205\": 1, \"103\": 2, \"18\": 6, \"208\": 1, \"209\": 1, \"104\": 2, \"58\": 3, \"210\": 1, \"211\": 1, \"105\": 2, \"212\": 1, \"213\": 1, \"59\": 3, \"216\": 1, \"215\": 1, \"214\": 1, \"106\": 2, \"217\": 1, \"107\": 2, \"60\": 3, \"1\": 25, \"3\": 19, \"218\": 1, \"219\": 1, \"108\": 2, \"109\": 2, \"220\": 1, \"221\": 1, \"222\": 1, \"110\": 2, \"35\": 4, \"27\": 5, \"223\": 1, \"111\": 2, \"36\": 4, \"225\": 1, \"224\": 1, \"226\": 1, \"227\": 1, \"230\": 1, \"229\": 1, \"228\": 1, \"113\": 2, \"112\": 2, \"37\": 4, \"61\": 3, \"232\": 1, \"231\": 1, \"234\": 1, \"233\": 1, \"38\": 4, \"114\": 2, \"235\": 1, \"237\": 1, \"236\": 1, \"238\": 1, \"62\": 3, \"239\": 1, \"115\": 2, \"240\": 1, \"241\": 1, \"242\": 1, \"243\": 1, \"244\": 1, \"247\": 1, \"246\": 1, \"245\": 1, \"11\": 8, \"248\": 1, \"116\": 2, \"249\": 1, \"117\": 2, \"118\": 2, \"250\": 1, \"119\": 2, \"251\": 1, \"120\": 2, \"39\": 4, \"63\": 3, \"121\": 2, \"252\": 1, \"253\": 1, \"40\": 4, \"254\": 1, \"255\": 1, \"256\": 1, \"257\": 1, \"258\": 1, \"259\": 1, \"260\": 1, \"262\": 1, \"261\": 1, \"265\": 1, \"266\": 1, \"263\": 1, \"264\": 1, \"64\": 3, \"267\": 1, \"268\": 1, \"269\": 1, \"270\": 1, \"271\": 1, \"272\": 1, \"273\": 1, \"274\": 1, \"275\": 1, \"65\": 3, \"276\": 1, \"277\": 1, \"122\": 2, \"278\": 1, \"279\": 1, \"281\": 1, \"280\": 1, \"282\": 1, \"123\": 2, \"283\": 1, \"284\": 1, \"285\": 1, \"289\": 1, \"286\": 1, \"288\": 1, \"287\": 1, \"290\": 1, \"291\": 1, \"292\": 1}',\n",
              " 'index_word': '{\"1\": \"mental\", \"2\": \"depression\", \"3\": \"health\", \"4\": \"feel\", \"5\": \"want\", \"6\": \"dont\", \"7\": \"im\", \"8\": \"good\", \"9\": \"cant\", \"10\": \"know\", \"11\": \"anxiety\", \"12\": \"nothing\", \"13\": \"help\", \"14\": \"tell\", \"15\": \"need\", \"16\": \"stressed\", \"17\": \"like\", \"18\": \"learn\", \"19\": \"lonely\", \"20\": \"think\", \"21\": \"talk\", \"22\": \"away\", \"23\": \"youre\", \"24\": \"would\", \"25\": \"hate\", \"26\": \"problems\", \"27\": \"illness\", \"28\": \"ok\", \"29\": \"much\", \"30\": \"sad\", \"31\": \"sleep\", \"32\": \"else\", \"33\": \"exams\", \"34\": \"something\", \"35\": \"therapy\", \"36\": \"causes\", \"37\": \"find\", \"38\": \"difference\", \"39\": \"rate\", \"40\": \"cause\", \"41\": \"bye\", \"42\": \"thank\", \"43\": \"thats\", \"44\": \"really\", \"45\": \"whats\", \"46\": \"support\", \"47\": \"feeling\", \"48\": \"anymore\", \"49\": \"depressed\", \"50\": \"yeah\", \"51\": \"anxious\", \"52\": \"go\", \"53\": \"sounds\", \"54\": \"died\", \"55\": \"passed\", \"56\": \"going\", \"57\": \"kill\", \"58\": \"right\", \"59\": \"better\", \"60\": \"advice\", \"61\": \"treatment\", \"62\": \"types\", \"63\": \"highest\", \"64\": \"thoughts\", \"65\": \"wish\", \"66\": \"hi\", \"67\": \"hey\", \"68\": \"anyone\", \"69\": \"evening\", \"70\": \"afternoon\", \"71\": \"see\", \"72\": \"well\", \"73\": \"thanks\", \"74\": \"name\", \"75\": \"created\", \"76\": \"could\", \"77\": \"please\", \"78\": \"one\", \"79\": \"likes\", \"80\": \"anything\", \"81\": \"useless\", \"82\": \"sense\", \"83\": \"happy\", \"84\": \"fine\", \"85\": \"yes\", \"86\": \"suffering\", \"87\": \"havent\", \"88\": \"last\", \"89\": \"days\", \"90\": \"scared\", \"91\": \"someone\", \"92\": \"family\", \"93\": \"say\", \"94\": \"ive\", \"95\": \"friends\", \"96\": \"joke\", \"97\": \"another\", \"98\": \"already\", \"99\": \"make\", \"100\": \"wrong\", \"101\": \"dumb\", \"102\": \"probably\", \"103\": \"guess\", \"104\": \"break\", \"105\": \"useful\", \"106\": \"ill\", \"107\": \"control\", \"108\": \"fact\", \"109\": \"define\", \"110\": \"therapist\", \"111\": \"affect\", \"112\": \"professional\", \"113\": \"child\", \"114\": \"professionals\", \"115\": \"group\", \"116\": \"sadness\", \"117\": \"let\", \"118\": \"lately\", \"119\": \"afraid\", \"120\": \"age\", \"121\": \"country\", \"122\": \"losing\", \"123\": \"bullying\", \"124\": \"hello\", \"125\": \"howdy\", \"126\": \"hola\", \"127\": \"bonjour\", \"128\": \"hay\", \"129\": \"sasa\", \"130\": \"morning\", \"131\": \"night\", \"132\": \"later\", \"133\": \"goodbye\", \"134\": \"au\", \"135\": \"revoir\", \"136\": \"sayonara\", \"137\": \"fare\", \"138\": \"thee\", \"139\": \"helpful\", \"140\": \"call\", \"141\": \"made\", \"142\": \"give\", \"143\": \"hand\", \"144\": \"empty\", \"145\": \"stuck\", \"146\": \"still\", \"147\": \"burned\", \"148\": \"worthless\", \"149\": \"makes\", \"150\": \"take\", \"151\": \"great\", \"152\": \"today\", \"153\": \"cheerful\", \"154\": \"oh\", \"155\": \"okay\", \"156\": \"nice\", \"157\": \"whatever\", \"158\": \"k\", \"159\": \"stay\", \"160\": \"bring\", \"161\": \"open\", \"162\": \"shut\", \"163\": \"insominia\", \"164\": \"insomnia\", \"165\": \"slept\", \"166\": \"seem\", \"167\": \"proper\", \"168\": \"past\", \"169\": \"awful\", \"170\": \"way\", \"171\": \"mom\", \"172\": \"brother\", \"173\": \"dad\", \"174\": \"sister\", \"175\": \"friend\", \"176\": \"understand\", \"177\": \"robot\", \"178\": \"possibly\", \"179\": \"nobody\", \"180\": \"understands\", \"181\": \"thought\", \"182\": \"killing\", \"183\": \"die\", \"184\": \"commit\", \"185\": \"suicide\", \"186\": \"trust\", \"187\": \"relationship\", \"188\": \"boyfriend\", \"189\": \"girlfriend\", \"190\": \"money\", \"191\": \"financial\", \"192\": \"told\", \"193\": \"mentioned\", \"194\": \"repeating\", \"195\": \"saying\", \"196\": \"doesnt\", \"197\": \"response\", \"198\": \"answer\", \"199\": \"stupid\", \"200\": \"crazy\", \"201\": \"live\", \"202\": \"location\", \"203\": \"lets\", \"204\": \"ask\", \"205\": \"approaching\", \"206\": \"prepared\", \"207\": \"enough\", \"208\": \"sure\", \"209\": \"deserve\", \"210\": \"absolutely\", \"211\": \"hmmm\", \"212\": \"said\", \"213\": \"alot\", \"214\": \"continue\", \"215\": \"practicing\", \"216\": \"meditation\", \"217\": \"focus\", \"218\": \"interested\", \"219\": \"learning\", \"220\": \"important\", \"221\": \"importance\", \"222\": \"mentally\", \"223\": \"mean\", \"224\": \"warning\", \"225\": \"signs\", \"226\": \"people\", \"227\": \"recover\", \"228\": \"appears\", \"229\": \"symptoms\", \"230\": \"disorder\", \"231\": \"options\", \"232\": \"available\", \"233\": \"become\", \"234\": \"involved\", \"235\": \"get\", \"236\": \"starting\", \"237\": \"new\", \"238\": \"medication\", \"239\": \"different\", \"240\": \"prevent\", \"241\": \"cures\", \"242\": \"cure\", \"243\": \"worried\", \"244\": \"unwell\", \"245\": \"maintain\", \"246\": \"social\", \"247\": \"connections\", \"248\": \"stress\", \"249\": \"parents\", \"250\": \"fail\", \"251\": \"top\", \"252\": \"lowest\", \"253\": \"school\", \"254\": \"biological\", \"255\": \"world\", \"256\": \"race\", \"257\": \"meaning\", \"258\": \"oversleeping\", \"259\": \"lack\", \"260\": \"side\", \"261\": \"effect\", \"262\": \"diabetes\", \"263\": \"low\", \"264\": \"blood\", \"265\": \"sugar\", \"266\": \"suicidal\", \"267\": \"long\", \"268\": \"stages\", \"269\": \"peak\", \"270\": \"bad\", \"271\": \"rule\", \"272\": \"many\", \"273\": \"day\", \"274\": \"reduce\", \"275\": \"ugly\", \"276\": \"couldve\", \"277\": \"winner\", \"278\": \"mind\", \"279\": \"never\", \"280\": \"succeed\", \"281\": \"life\", \"282\": \"victim\", \"283\": \"file\", \"284\": \"case\", \"285\": \"quit\", \"286\": \"leave\", \"287\": \"cou\", \"288\": \"ntry\", \"289\": \"run\", \"290\": \"everyojokne\", \"291\": \"time\", \"292\": \"come\"}',\n",
              " 'word_index': '{\"mental\": 1, \"depression\": 2, \"health\": 3, \"feel\": 4, \"want\": 5, \"dont\": 6, \"im\": 7, \"good\": 8, \"cant\": 9, \"know\": 10, \"anxiety\": 11, \"nothing\": 12, \"help\": 13, \"tell\": 14, \"need\": 15, \"stressed\": 16, \"like\": 17, \"learn\": 18, \"lonely\": 19, \"think\": 20, \"talk\": 21, \"away\": 22, \"youre\": 23, \"would\": 24, \"hate\": 25, \"problems\": 26, \"illness\": 27, \"ok\": 28, \"much\": 29, \"sad\": 30, \"sleep\": 31, \"else\": 32, \"exams\": 33, \"something\": 34, \"therapy\": 35, \"causes\": 36, \"find\": 37, \"difference\": 38, \"rate\": 39, \"cause\": 40, \"bye\": 41, \"thank\": 42, \"thats\": 43, \"really\": 44, \"whats\": 45, \"support\": 46, \"feeling\": 47, \"anymore\": 48, \"depressed\": 49, \"yeah\": 50, \"anxious\": 51, \"go\": 52, \"sounds\": 53, \"died\": 54, \"passed\": 55, \"going\": 56, \"kill\": 57, \"right\": 58, \"better\": 59, \"advice\": 60, \"treatment\": 61, \"types\": 62, \"highest\": 63, \"thoughts\": 64, \"wish\": 65, \"hi\": 66, \"hey\": 67, \"anyone\": 68, \"evening\": 69, \"afternoon\": 70, \"see\": 71, \"well\": 72, \"thanks\": 73, \"name\": 74, \"created\": 75, \"could\": 76, \"please\": 77, \"one\": 78, \"likes\": 79, \"anything\": 80, \"useless\": 81, \"sense\": 82, \"happy\": 83, \"fine\": 84, \"yes\": 85, \"suffering\": 86, \"havent\": 87, \"last\": 88, \"days\": 89, \"scared\": 90, \"someone\": 91, \"family\": 92, \"say\": 93, \"ive\": 94, \"friends\": 95, \"joke\": 96, \"another\": 97, \"already\": 98, \"make\": 99, \"wrong\": 100, \"dumb\": 101, \"probably\": 102, \"guess\": 103, \"break\": 104, \"useful\": 105, \"ill\": 106, \"control\": 107, \"fact\": 108, \"define\": 109, \"therapist\": 110, \"affect\": 111, \"professional\": 112, \"child\": 113, \"professionals\": 114, \"group\": 115, \"sadness\": 116, \"let\": 117, \"lately\": 118, \"afraid\": 119, \"age\": 120, \"country\": 121, \"losing\": 122, \"bullying\": 123, \"hello\": 124, \"howdy\": 125, \"hola\": 126, \"bonjour\": 127, \"hay\": 128, \"sasa\": 129, \"morning\": 130, \"night\": 131, \"later\": 132, \"goodbye\": 133, \"au\": 134, \"revoir\": 135, \"sayonara\": 136, \"fare\": 137, \"thee\": 138, \"helpful\": 139, \"call\": 140, \"made\": 141, \"give\": 142, \"hand\": 143, \"empty\": 144, \"stuck\": 145, \"still\": 146, \"burned\": 147, \"worthless\": 148, \"makes\": 149, \"take\": 150, \"great\": 151, \"today\": 152, \"cheerful\": 153, \"oh\": 154, \"okay\": 155, \"nice\": 156, \"whatever\": 157, \"k\": 158, \"stay\": 159, \"bring\": 160, \"open\": 161, \"shut\": 162, \"insominia\": 163, \"insomnia\": 164, \"slept\": 165, \"seem\": 166, \"proper\": 167, \"past\": 168, \"awful\": 169, \"way\": 170, \"mom\": 171, \"brother\": 172, \"dad\": 173, \"sister\": 174, \"friend\": 175, \"understand\": 176, \"robot\": 177, \"possibly\": 178, \"nobody\": 179, \"understands\": 180, \"thought\": 181, \"killing\": 182, \"die\": 183, \"commit\": 184, \"suicide\": 185, \"trust\": 186, \"relationship\": 187, \"boyfriend\": 188, \"girlfriend\": 189, \"money\": 190, \"financial\": 191, \"told\": 192, \"mentioned\": 193, \"repeating\": 194, \"saying\": 195, \"doesnt\": 196, \"response\": 197, \"answer\": 198, \"stupid\": 199, \"crazy\": 200, \"live\": 201, \"location\": 202, \"lets\": 203, \"ask\": 204, \"approaching\": 205, \"prepared\": 206, \"enough\": 207, \"sure\": 208, \"deserve\": 209, \"absolutely\": 210, \"hmmm\": 211, \"said\": 212, \"alot\": 213, \"continue\": 214, \"practicing\": 215, \"meditation\": 216, \"focus\": 217, \"interested\": 218, \"learning\": 219, \"important\": 220, \"importance\": 221, \"mentally\": 222, \"mean\": 223, \"warning\": 224, \"signs\": 225, \"people\": 226, \"recover\": 227, \"appears\": 228, \"symptoms\": 229, \"disorder\": 230, \"options\": 231, \"available\": 232, \"become\": 233, \"involved\": 234, \"get\": 235, \"starting\": 236, \"new\": 237, \"medication\": 238, \"different\": 239, \"prevent\": 240, \"cures\": 241, \"cure\": 242, \"worried\": 243, \"unwell\": 244, \"maintain\": 245, \"social\": 246, \"connections\": 247, \"stress\": 248, \"parents\": 249, \"fail\": 250, \"top\": 251, \"lowest\": 252, \"school\": 253, \"biological\": 254, \"world\": 255, \"race\": 256, \"meaning\": 257, \"oversleeping\": 258, \"lack\": 259, \"side\": 260, \"effect\": 261, \"diabetes\": 262, \"low\": 263, \"blood\": 264, \"sugar\": 265, \"suicidal\": 266, \"long\": 267, \"stages\": 268, \"peak\": 269, \"bad\": 270, \"rule\": 271, \"many\": 272, \"day\": 273, \"reduce\": 274, \"ugly\": 275, \"couldve\": 276, \"winner\": 277, \"mind\": 278, \"never\": 279, \"succeed\": 280, \"life\": 281, \"victim\": 282, \"file\": 283, \"case\": 284, \"quit\": 285, \"leave\": 286, \"cou\": 287, \"ntry\": 288, \"run\": 289, \"everyojokne\": 290, \"time\": 291, \"come\": 292}'}"
            ]
          },
          "execution_count": 31,
          "metadata": {},
          "output_type": "execute_result"
        }
      ],
      "source": [
        "\n",
        "tokenizer = Tokenizer(lower=True, split=' ')\n",
        "tokenizer.fit_on_texts(df['cleaned_patterns'])\n",
        "tokenizer.get_config()"
      ]
    },
    {
      "cell_type": "markdown",
      "metadata": {
        "id": "IJpnxOrJmEyQ"
      },
      "source": [
        "Conversion Label to Number\n"
      ]
    },
    {
      "cell_type": "code",
      "execution_count": 32,
      "metadata": {
        "colab": {
          "base_uri": "https://localhost:8080/"
        },
        "id": "WlC0KQs2mEc0",
        "outputId": "1e2f5a9f-f53c-416c-aaa3-8c139e1c9d59"
      },
      "outputs": [
        {
          "name": "stdout",
          "output_type": "stream",
          "text": [
            "X shape =  (283, 9)\n",
            "y shape =  (283,)\n",
            "num of classes =  129\n"
          ]
        }
      ],
      "source": [
        "ptrn2seq = tokenizer.texts_to_sequences(df['patterns'])\n",
        "X = pad_sequences(ptrn2seq, padding='post')\n",
        "print('X shape = ', X.shape)\n",
        "\n",
        "lbl_enc = LabelEncoder()\n",
        "y = lbl_enc.fit_transform(df['tag'])\n",
        "print('y shape = ', y.shape)\n",
        "print('num of classes = ', len(np.unique(y)))"
      ]
    },
    {
      "cell_type": "markdown",
      "metadata": {
        "id": "cOJw4TMum6oe"
      },
      "source": [
        "# Train Test Split"
      ]
    },
    {
      "cell_type": "code",
      "execution_count": 33,
      "metadata": {
        "id": "zQ0B0HUYm8yB"
      },
      "outputs": [],
      "source": [
        "from sklearn.model_selection import train_test_split\n",
        "\n",
        "X_train, X_test, y_train, y_test = train_test_split(X, y, test_size=0.2, random_state=42)\n"
      ]
    },
    {
      "cell_type": "code",
      "execution_count": 34,
      "metadata": {
        "colab": {
          "base_uri": "https://localhost:8080/"
        },
        "id": "k2nhEm4FBZQ6",
        "outputId": "392d5648-621a-49fd-ab7e-4425d2b1d608"
      },
      "outputs": [
        {
          "name": "stdout",
          "output_type": "stream",
          "text": [
            "number of unique words =  292\n"
          ]
        }
      ],
      "source": [
        "vocab_size = len(tokenizer.word_index)\n",
        "print('number of unique words = ', vocab_size)"
      ]
    },
    {
      "cell_type": "code",
      "execution_count": 35,
      "metadata": {
        "colab": {
          "base_uri": "https://localhost:8080/",
          "height": 1000
        },
        "id": "ld3eOhLgAc94",
        "outputId": "c0d3e2dc-110a-44d8-c388-a883122402f1"
      },
      "outputs": [
        {
          "name": "stderr",
          "output_type": "stream",
          "text": [
            "c:\\Users\\vincent\\AppData\\Local\\Programs\\Python\\Python312\\Lib\\site-packages\\keras\\src\\layers\\core\\embedding.py:93: UserWarning: Do not pass an `input_shape`/`input_dim` argument to a layer. When using Sequential models, prefer using an `Input(shape)` object as the first layer in the model instead.\n",
            "  super().__init__(**kwargs)\n"
          ]
        },
        {
          "data": {
            "text/html": [
              "<pre style=\"white-space:pre;overflow-x:auto;line-height:normal;font-family:Menlo,'DejaVu Sans Mono',consolas,'Courier New',monospace\"><span style=\"font-weight: bold\">Model: \"sequential_1\"</span>\n",
              "</pre>\n"
            ],
            "text/plain": [
              "\u001b[1mModel: \"sequential_1\"\u001b[0m\n"
            ]
          },
          "metadata": {},
          "output_type": "display_data"
        },
        {
          "data": {
            "text/html": [
              "<pre style=\"white-space:pre;overflow-x:auto;line-height:normal;font-family:Menlo,'DejaVu Sans Mono',consolas,'Courier New',monospace\">┏━━━━━━━━━━━━━━━━━━━━━━━━━━━━━━━━━┳━━━━━━━━━━━━━━━━━━━━━━━━┳━━━━━━━━━━━━━━━┓\n",
              "┃<span style=\"font-weight: bold\"> Layer (type)                    </span>┃<span style=\"font-weight: bold\"> Output Shape           </span>┃<span style=\"font-weight: bold\">       Param # </span>┃\n",
              "┡━━━━━━━━━━━━━━━━━━━━━━━━━━━━━━━━━╇━━━━━━━━━━━━━━━━━━━━━━━━╇━━━━━━━━━━━━━━━┩\n",
              "│ embedding_1 (<span style=\"color: #0087ff; text-decoration-color: #0087ff\">Embedding</span>)         │ (<span style=\"color: #00d7ff; text-decoration-color: #00d7ff\">None</span>, <span style=\"color: #00af00; text-decoration-color: #00af00\">9</span>, <span style=\"color: #00af00; text-decoration-color: #00af00\">100</span>)         │        <span style=\"color: #00af00; text-decoration-color: #00af00\">29,300</span> │\n",
              "├─────────────────────────────────┼────────────────────────┼───────────────┤\n",
              "│ lstm_3 (<span style=\"color: #0087ff; text-decoration-color: #0087ff\">LSTM</span>)                   │ (<span style=\"color: #00d7ff; text-decoration-color: #00d7ff\">None</span>, <span style=\"color: #00af00; text-decoration-color: #00af00\">9</span>, <span style=\"color: #00af00; text-decoration-color: #00af00\">32</span>)          │        <span style=\"color: #00af00; text-decoration-color: #00af00\">17,024</span> │\n",
              "├─────────────────────────────────┼────────────────────────┼───────────────┤\n",
              "│ layer_normalization_5           │ (<span style=\"color: #00d7ff; text-decoration-color: #00d7ff\">None</span>, <span style=\"color: #00af00; text-decoration-color: #00af00\">9</span>, <span style=\"color: #00af00; text-decoration-color: #00af00\">32</span>)          │            <span style=\"color: #00af00; text-decoration-color: #00af00\">64</span> │\n",
              "│ (<span style=\"color: #0087ff; text-decoration-color: #0087ff\">LayerNormalization</span>)            │                        │               │\n",
              "├─────────────────────────────────┼────────────────────────┼───────────────┤\n",
              "│ lstm_4 (<span style=\"color: #0087ff; text-decoration-color: #0087ff\">LSTM</span>)                   │ (<span style=\"color: #00d7ff; text-decoration-color: #00d7ff\">None</span>, <span style=\"color: #00af00; text-decoration-color: #00af00\">9</span>, <span style=\"color: #00af00; text-decoration-color: #00af00\">32</span>)          │         <span style=\"color: #00af00; text-decoration-color: #00af00\">8,320</span> │\n",
              "├─────────────────────────────────┼────────────────────────┼───────────────┤\n",
              "│ layer_normalization_6           │ (<span style=\"color: #00d7ff; text-decoration-color: #00d7ff\">None</span>, <span style=\"color: #00af00; text-decoration-color: #00af00\">9</span>, <span style=\"color: #00af00; text-decoration-color: #00af00\">32</span>)          │            <span style=\"color: #00af00; text-decoration-color: #00af00\">64</span> │\n",
              "│ (<span style=\"color: #0087ff; text-decoration-color: #0087ff\">LayerNormalization</span>)            │                        │               │\n",
              "├─────────────────────────────────┼────────────────────────┼───────────────┤\n",
              "│ lstm_5 (<span style=\"color: #0087ff; text-decoration-color: #0087ff\">LSTM</span>)                   │ (<span style=\"color: #00d7ff; text-decoration-color: #00d7ff\">None</span>, <span style=\"color: #00af00; text-decoration-color: #00af00\">32</span>)             │         <span style=\"color: #00af00; text-decoration-color: #00af00\">8,320</span> │\n",
              "├─────────────────────────────────┼────────────────────────┼───────────────┤\n",
              "│ layer_normalization_7           │ (<span style=\"color: #00d7ff; text-decoration-color: #00d7ff\">None</span>, <span style=\"color: #00af00; text-decoration-color: #00af00\">32</span>)             │            <span style=\"color: #00af00; text-decoration-color: #00af00\">64</span> │\n",
              "│ (<span style=\"color: #0087ff; text-decoration-color: #0087ff\">LayerNormalization</span>)            │                        │               │\n",
              "├─────────────────────────────────┼────────────────────────┼───────────────┤\n",
              "│ dense_3 (<span style=\"color: #0087ff; text-decoration-color: #0087ff\">Dense</span>)                 │ (<span style=\"color: #00d7ff; text-decoration-color: #00d7ff\">None</span>, <span style=\"color: #00af00; text-decoration-color: #00af00\">128</span>)            │         <span style=\"color: #00af00; text-decoration-color: #00af00\">4,224</span> │\n",
              "├─────────────────────────────────┼────────────────────────┼───────────────┤\n",
              "│ layer_normalization_8           │ (<span style=\"color: #00d7ff; text-decoration-color: #00d7ff\">None</span>, <span style=\"color: #00af00; text-decoration-color: #00af00\">128</span>)            │           <span style=\"color: #00af00; text-decoration-color: #00af00\">256</span> │\n",
              "│ (<span style=\"color: #0087ff; text-decoration-color: #0087ff\">LayerNormalization</span>)            │                        │               │\n",
              "├─────────────────────────────────┼────────────────────────┼───────────────┤\n",
              "│ dropout_2 (<span style=\"color: #0087ff; text-decoration-color: #0087ff\">Dropout</span>)             │ (<span style=\"color: #00d7ff; text-decoration-color: #00d7ff\">None</span>, <span style=\"color: #00af00; text-decoration-color: #00af00\">128</span>)            │             <span style=\"color: #00af00; text-decoration-color: #00af00\">0</span> │\n",
              "├─────────────────────────────────┼────────────────────────┼───────────────┤\n",
              "│ dense_4 (<span style=\"color: #0087ff; text-decoration-color: #0087ff\">Dense</span>)                 │ (<span style=\"color: #00d7ff; text-decoration-color: #00d7ff\">None</span>, <span style=\"color: #00af00; text-decoration-color: #00af00\">128</span>)            │        <span style=\"color: #00af00; text-decoration-color: #00af00\">16,512</span> │\n",
              "├─────────────────────────────────┼────────────────────────┼───────────────┤\n",
              "│ layer_normalization_9           │ (<span style=\"color: #00d7ff; text-decoration-color: #00d7ff\">None</span>, <span style=\"color: #00af00; text-decoration-color: #00af00\">128</span>)            │           <span style=\"color: #00af00; text-decoration-color: #00af00\">256</span> │\n",
              "│ (<span style=\"color: #0087ff; text-decoration-color: #0087ff\">LayerNormalization</span>)            │                        │               │\n",
              "├─────────────────────────────────┼────────────────────────┼───────────────┤\n",
              "│ dropout_3 (<span style=\"color: #0087ff; text-decoration-color: #0087ff\">Dropout</span>)             │ (<span style=\"color: #00d7ff; text-decoration-color: #00d7ff\">None</span>, <span style=\"color: #00af00; text-decoration-color: #00af00\">128</span>)            │             <span style=\"color: #00af00; text-decoration-color: #00af00\">0</span> │\n",
              "├─────────────────────────────────┼────────────────────────┼───────────────┤\n",
              "│ dense_5 (<span style=\"color: #0087ff; text-decoration-color: #0087ff\">Dense</span>)                 │ (<span style=\"color: #00d7ff; text-decoration-color: #00d7ff\">None</span>, <span style=\"color: #00af00; text-decoration-color: #00af00\">129</span>)            │        <span style=\"color: #00af00; text-decoration-color: #00af00\">16,641</span> │\n",
              "└─────────────────────────────────┴────────────────────────┴───────────────┘\n",
              "</pre>\n"
            ],
            "text/plain": [
              "┏━━━━━━━━━━━━━━━━━━━━━━━━━━━━━━━━━┳━━━━━━━━━━━━━━━━━━━━━━━━┳━━━━━━━━━━━━━━━┓\n",
              "┃\u001b[1m \u001b[0m\u001b[1mLayer (type)                   \u001b[0m\u001b[1m \u001b[0m┃\u001b[1m \u001b[0m\u001b[1mOutput Shape          \u001b[0m\u001b[1m \u001b[0m┃\u001b[1m \u001b[0m\u001b[1m      Param #\u001b[0m\u001b[1m \u001b[0m┃\n",
              "┡━━━━━━━━━━━━━━━━━━━━━━━━━━━━━━━━━╇━━━━━━━━━━━━━━━━━━━━━━━━╇━━━━━━━━━━━━━━━┩\n",
              "│ embedding_1 (\u001b[38;5;33mEmbedding\u001b[0m)         │ (\u001b[38;5;45mNone\u001b[0m, \u001b[38;5;34m9\u001b[0m, \u001b[38;5;34m100\u001b[0m)         │        \u001b[38;5;34m29,300\u001b[0m │\n",
              "├─────────────────────────────────┼────────────────────────┼───────────────┤\n",
              "│ lstm_3 (\u001b[38;5;33mLSTM\u001b[0m)                   │ (\u001b[38;5;45mNone\u001b[0m, \u001b[38;5;34m9\u001b[0m, \u001b[38;5;34m32\u001b[0m)          │        \u001b[38;5;34m17,024\u001b[0m │\n",
              "├─────────────────────────────────┼────────────────────────┼───────────────┤\n",
              "│ layer_normalization_5           │ (\u001b[38;5;45mNone\u001b[0m, \u001b[38;5;34m9\u001b[0m, \u001b[38;5;34m32\u001b[0m)          │            \u001b[38;5;34m64\u001b[0m │\n",
              "│ (\u001b[38;5;33mLayerNormalization\u001b[0m)            │                        │               │\n",
              "├─────────────────────────────────┼────────────────────────┼───────────────┤\n",
              "│ lstm_4 (\u001b[38;5;33mLSTM\u001b[0m)                   │ (\u001b[38;5;45mNone\u001b[0m, \u001b[38;5;34m9\u001b[0m, \u001b[38;5;34m32\u001b[0m)          │         \u001b[38;5;34m8,320\u001b[0m │\n",
              "├─────────────────────────────────┼────────────────────────┼───────────────┤\n",
              "│ layer_normalization_6           │ (\u001b[38;5;45mNone\u001b[0m, \u001b[38;5;34m9\u001b[0m, \u001b[38;5;34m32\u001b[0m)          │            \u001b[38;5;34m64\u001b[0m │\n",
              "│ (\u001b[38;5;33mLayerNormalization\u001b[0m)            │                        │               │\n",
              "├─────────────────────────────────┼────────────────────────┼───────────────┤\n",
              "│ lstm_5 (\u001b[38;5;33mLSTM\u001b[0m)                   │ (\u001b[38;5;45mNone\u001b[0m, \u001b[38;5;34m32\u001b[0m)             │         \u001b[38;5;34m8,320\u001b[0m │\n",
              "├─────────────────────────────────┼────────────────────────┼───────────────┤\n",
              "│ layer_normalization_7           │ (\u001b[38;5;45mNone\u001b[0m, \u001b[38;5;34m32\u001b[0m)             │            \u001b[38;5;34m64\u001b[0m │\n",
              "│ (\u001b[38;5;33mLayerNormalization\u001b[0m)            │                        │               │\n",
              "├─────────────────────────────────┼────────────────────────┼───────────────┤\n",
              "│ dense_3 (\u001b[38;5;33mDense\u001b[0m)                 │ (\u001b[38;5;45mNone\u001b[0m, \u001b[38;5;34m128\u001b[0m)            │         \u001b[38;5;34m4,224\u001b[0m │\n",
              "├─────────────────────────────────┼────────────────────────┼───────────────┤\n",
              "│ layer_normalization_8           │ (\u001b[38;5;45mNone\u001b[0m, \u001b[38;5;34m128\u001b[0m)            │           \u001b[38;5;34m256\u001b[0m │\n",
              "│ (\u001b[38;5;33mLayerNormalization\u001b[0m)            │                        │               │\n",
              "├─────────────────────────────────┼────────────────────────┼───────────────┤\n",
              "│ dropout_2 (\u001b[38;5;33mDropout\u001b[0m)             │ (\u001b[38;5;45mNone\u001b[0m, \u001b[38;5;34m128\u001b[0m)            │             \u001b[38;5;34m0\u001b[0m │\n",
              "├─────────────────────────────────┼────────────────────────┼───────────────┤\n",
              "│ dense_4 (\u001b[38;5;33mDense\u001b[0m)                 │ (\u001b[38;5;45mNone\u001b[0m, \u001b[38;5;34m128\u001b[0m)            │        \u001b[38;5;34m16,512\u001b[0m │\n",
              "├─────────────────────────────────┼────────────────────────┼───────────────┤\n",
              "│ layer_normalization_9           │ (\u001b[38;5;45mNone\u001b[0m, \u001b[38;5;34m128\u001b[0m)            │           \u001b[38;5;34m256\u001b[0m │\n",
              "│ (\u001b[38;5;33mLayerNormalization\u001b[0m)            │                        │               │\n",
              "├─────────────────────────────────┼────────────────────────┼───────────────┤\n",
              "│ dropout_3 (\u001b[38;5;33mDropout\u001b[0m)             │ (\u001b[38;5;45mNone\u001b[0m, \u001b[38;5;34m128\u001b[0m)            │             \u001b[38;5;34m0\u001b[0m │\n",
              "├─────────────────────────────────┼────────────────────────┼───────────────┤\n",
              "│ dense_5 (\u001b[38;5;33mDense\u001b[0m)                 │ (\u001b[38;5;45mNone\u001b[0m, \u001b[38;5;34m129\u001b[0m)            │        \u001b[38;5;34m16,641\u001b[0m │\n",
              "└─────────────────────────────────┴────────────────────────┴───────────────┘\n"
            ]
          },
          "metadata": {},
          "output_type": "display_data"
        },
        {
          "data": {
            "text/html": [
              "<pre style=\"white-space:pre;overflow-x:auto;line-height:normal;font-family:Menlo,'DejaVu Sans Mono',consolas,'Courier New',monospace\"><span style=\"font-weight: bold\"> Total params: </span><span style=\"color: #00af00; text-decoration-color: #00af00\">101,045</span> (394.71 KB)\n",
              "</pre>\n"
            ],
            "text/plain": [
              "\u001b[1m Total params: \u001b[0m\u001b[38;5;34m101,045\u001b[0m (394.71 KB)\n"
            ]
          },
          "metadata": {},
          "output_type": "display_data"
        },
        {
          "data": {
            "text/html": [
              "<pre style=\"white-space:pre;overflow-x:auto;line-height:normal;font-family:Menlo,'DejaVu Sans Mono',consolas,'Courier New',monospace\"><span style=\"font-weight: bold\"> Trainable params: </span><span style=\"color: #00af00; text-decoration-color: #00af00\">101,045</span> (394.71 KB)\n",
              "</pre>\n"
            ],
            "text/plain": [
              "\u001b[1m Trainable params: \u001b[0m\u001b[38;5;34m101,045\u001b[0m (394.71 KB)\n"
            ]
          },
          "metadata": {},
          "output_type": "display_data"
        },
        {
          "data": {
            "text/html": [
              "<pre style=\"white-space:pre;overflow-x:auto;line-height:normal;font-family:Menlo,'DejaVu Sans Mono',consolas,'Courier New',monospace\"><span style=\"font-weight: bold\"> Non-trainable params: </span><span style=\"color: #00af00; text-decoration-color: #00af00\">0</span> (0.00 B)\n",
              "</pre>\n"
            ],
            "text/plain": [
              "\u001b[1m Non-trainable params: \u001b[0m\u001b[38;5;34m0\u001b[0m (0.00 B)\n"
            ]
          },
          "metadata": {},
          "output_type": "display_data"
        },
        {
          "name": "stdout",
          "output_type": "stream",
          "text": [
            "You must install pydot (`pip install pydot`) for `plot_model` to work.\n"
          ]
        }
      ],
      "source": [
        "from tensorflow.keras.layers import Input, Embedding, LSTM, LayerNormalization, Dense, Dropout\n",
        "from tensorflow.keras.models import Model\n",
        "\n",
        "# Assuming X is your input data with shape (number_of_samples, sequence_length)\n",
        "input_shape = (X.shape[1],)  # Shape tuple\n",
        "\n",
        "# Define the model\n",
        "model = Sequential()\n",
        "model.add(Embedding(input_dim=vocab_size + 1, output_dim=100, mask_zero=True, input_shape=input_shape))\n",
        "model.add(LSTM(32, return_sequences=True))\n",
        "model.add(LayerNormalization())\n",
        "model.add(LSTM(32, return_sequences=True))\n",
        "model.add(LayerNormalization())\n",
        "model.add(LSTM(32))\n",
        "model.add(LayerNormalization())\n",
        "model.add(Dense(128, activation=\"relu\"))\n",
        "model.add(LayerNormalization())\n",
        "model.add(Dropout(0.2))\n",
        "model.add(Dense(128, activation=\"relu\"))\n",
        "model.add(LayerNormalization())\n",
        "model.add(Dropout(0.2))\n",
        "model.add(Dense(len(np.unique(y)), activation=\"softmax\"))\n",
        "\n",
        "# Compile the model\n",
        "model.compile(optimizer='adam', loss=\"sparse_categorical_crossentropy\", metrics=['accuracy'])\n",
        "\n",
        "# Print model summary and plot model architecture\n",
        "model.summary()\n",
        "plot_model(model, show_shapes=True)\n"
      ]
    },
    {
      "cell_type": "code",
      "execution_count": 36,
      "metadata": {
        "colab": {
          "base_uri": "https://localhost:8080/"
        },
        "id": "fPpykfHhBkWR",
        "outputId": "dfe64cd5-f06a-496a-b153-c5bcd3e3ff9b"
      },
      "outputs": [
        {
          "name": "stdout",
          "output_type": "stream",
          "text": [
            "Epoch 1/50\n",
            "\u001b[1m18/18\u001b[0m \u001b[32m━━━━━━━━━━━━━━━━━━━━\u001b[0m\u001b[37m\u001b[0m \u001b[1m11s\u001b[0m 89ms/step - accuracy: 0.0334 - loss: 5.3046 - val_accuracy: 0.0217 - val_loss: 5.1643\n",
            "Epoch 2/50\n",
            "\u001b[1m18/18\u001b[0m \u001b[32m━━━━━━━━━━━━━━━━━━━━\u001b[0m\u001b[37m\u001b[0m \u001b[1m0s\u001b[0m 11ms/step - accuracy: 0.1441 - loss: 4.1218 - val_accuracy: 0.0652 - val_loss: 5.0468\n",
            "Epoch 3/50\n",
            "\u001b[1m18/18\u001b[0m \u001b[32m━━━━━━━━━━━━━━━━━━━━\u001b[0m\u001b[37m\u001b[0m \u001b[1m0s\u001b[0m 11ms/step - accuracy: 0.3170 - loss: 3.3189 - val_accuracy: 0.0652 - val_loss: 4.9542\n",
            "Epoch 4/50\n",
            "\u001b[1m18/18\u001b[0m \u001b[32m━━━━━━━━━━━━━━━━━━━━\u001b[0m\u001b[37m\u001b[0m \u001b[1m0s\u001b[0m 12ms/step - accuracy: 0.4484 - loss: 2.6884 - val_accuracy: 0.0652 - val_loss: 5.0714\n",
            "Epoch 5/50\n",
            "\u001b[1m18/18\u001b[0m \u001b[32m━━━━━━━━━━━━━━━━━━━━\u001b[0m\u001b[37m\u001b[0m \u001b[1m0s\u001b[0m 12ms/step - accuracy: 0.5980 - loss: 2.1686 - val_accuracy: 0.0870 - val_loss: 5.1301\n",
            "Epoch 6/50\n",
            "\u001b[1m18/18\u001b[0m \u001b[32m━━━━━━━━━━━━━━━━━━━━\u001b[0m\u001b[37m\u001b[0m \u001b[1m0s\u001b[0m 11ms/step - accuracy: 0.7042 - loss: 1.7469 - val_accuracy: 0.0652 - val_loss: 5.1732\n",
            "Epoch 7/50\n",
            "\u001b[1m18/18\u001b[0m \u001b[32m━━━━━━━━━━━━━━━━━━━━\u001b[0m\u001b[37m\u001b[0m \u001b[1m0s\u001b[0m 13ms/step - accuracy: 0.7560 - loss: 1.5470 - val_accuracy: 0.1304 - val_loss: 5.1995\n",
            "Epoch 8/50\n",
            "\u001b[1m18/18\u001b[0m \u001b[32m━━━━━━━━━━━━━━━━━━━━\u001b[0m\u001b[37m\u001b[0m \u001b[1m0s\u001b[0m 12ms/step - accuracy: 0.7923 - loss: 1.2512 - val_accuracy: 0.1087 - val_loss: 5.3203\n",
            "Epoch 9/50\n",
            "\u001b[1m18/18\u001b[0m \u001b[32m━━━━━━━━━━━━━━━━━━━━\u001b[0m\u001b[37m\u001b[0m \u001b[1m0s\u001b[0m 11ms/step - accuracy: 0.8329 - loss: 1.0592 - val_accuracy: 0.1087 - val_loss: 5.3905\n",
            "Epoch 10/50\n",
            "\u001b[1m18/18\u001b[0m \u001b[32m━━━━━━━━━━━━━━━━━━━━\u001b[0m\u001b[37m\u001b[0m \u001b[1m0s\u001b[0m 11ms/step - accuracy: 0.8664 - loss: 0.8577 - val_accuracy: 0.1087 - val_loss: 5.4700\n",
            "Epoch 11/50\n",
            "\u001b[1m18/18\u001b[0m \u001b[32m━━━━━━━━━━━━━━━━━━━━\u001b[0m\u001b[37m\u001b[0m \u001b[1m0s\u001b[0m 12ms/step - accuracy: 0.8380 - loss: 0.8639 - val_accuracy: 0.1739 - val_loss: 5.4583\n",
            "Epoch 12/50\n",
            "\u001b[1m18/18\u001b[0m \u001b[32m━━━━━━━━━━━━━━━━━━━━\u001b[0m\u001b[37m\u001b[0m \u001b[1m0s\u001b[0m 13ms/step - accuracy: 0.9092 - loss: 0.6704 - val_accuracy: 0.1522 - val_loss: 5.4446\n",
            "Epoch 13/50\n",
            "\u001b[1m18/18\u001b[0m \u001b[32m━━━━━━━━━━━━━━━━━━━━\u001b[0m\u001b[37m\u001b[0m \u001b[1m0s\u001b[0m 12ms/step - accuracy: 0.8796 - loss: 0.6828 - val_accuracy: 0.1522 - val_loss: 5.6167\n",
            "Epoch 14/50\n",
            "\u001b[1m18/18\u001b[0m \u001b[32m━━━━━━━━━━━━━━━━━━━━\u001b[0m\u001b[37m\u001b[0m \u001b[1m0s\u001b[0m 12ms/step - accuracy: 0.9108 - loss: 0.5031 - val_accuracy: 0.1304 - val_loss: 5.7055\n",
            "Epoch 15/50\n",
            "\u001b[1m18/18\u001b[0m \u001b[32m━━━━━━━━━━━━━━━━━━━━\u001b[0m\u001b[37m\u001b[0m \u001b[1m0s\u001b[0m 12ms/step - accuracy: 0.9506 - loss: 0.4679 - val_accuracy: 0.1087 - val_loss: 5.7330\n",
            "Epoch 16/50\n",
            "\u001b[1m18/18\u001b[0m \u001b[32m━━━━━━━━━━━━━━━━━━━━\u001b[0m\u001b[37m\u001b[0m \u001b[1m0s\u001b[0m 13ms/step - accuracy: 0.9385 - loss: 0.4234 - val_accuracy: 0.1522 - val_loss: 5.8088\n",
            "Epoch 17/50\n",
            "\u001b[1m18/18\u001b[0m \u001b[32m━━━━━━━━━━━━━━━━━━━━\u001b[0m\u001b[37m\u001b[0m \u001b[1m0s\u001b[0m 14ms/step - accuracy: 0.9261 - loss: 0.4126 - val_accuracy: 0.1522 - val_loss: 5.7685\n"
          ]
        },
        {
          "name": "stderr",
          "output_type": "stream",
          "text": [
            "WARNING:absl:You are saving your model as an HDF5 file via `model.save()` or `keras.saving.save_model(model)`. This file format is considered legacy. We recommend using instead the native Keras format, e.g. `model.save('my_model.keras')` or `keras.saving.save_model(model, 'my_model.keras')`. \n"
          ]
        }
      ],
      "source": [
        "model_history = model.fit(x=X_train,\n",
        "                          y=y_train,\n",
        "                          batch_size=10,\n",
        "                          callbacks=[tf.keras.callbacks.EarlyStopping(monitor='accuracy', patience=3)],\n",
        "                          validation_split=0.2,\n",
        "                          epochs=50)\n",
        "model.save('model.h5')"
      ]
    },
    {
      "cell_type": "code",
      "execution_count": 37,
      "metadata": {
        "colab": {
          "base_uri": "https://localhost:8080/",
          "height": 887
        },
        "id": "9Pw1H2S4dQ5L",
        "outputId": "ed075272-3cdc-4633-a98d-2ab7566ba767"
      },
      "outputs": [
        {
          "data": {
            "image/png": "[encoded data removed]",
            "text/plain": [
              "<Figure size 640x480 with 1 Axes>"
            ]
          },
          "metadata": {},
          "output_type": "display_data"
        },
        {
          "data": {
            "image/png": "[encoded data removed]",
            "text/plain": [
              "<Figure size 640x480 with 1 Axes>"
            ]
          },
          "metadata": {},
          "output_type": "display_data"
        }
      ],
      "source": [
        "import seaborn as sns\n",
        "\n",
        "sns.countplot(x=y_train)\n",
        "plt.title('Train Data Distribution')\n",
        "plt.show()\n",
        "\n",
        "sns.countplot(x=y_test)\n",
        "plt.title('Test Data Distribution')\n",
        "plt.show()\n"
      ]
    },
    {
      "cell_type": "code",
      "execution_count": 38,
      "metadata": {
        "colab": {
          "base_uri": "https://localhost:8080/",
          "height": 75
        },
        "id": "GZd6m5ucm-jq",
        "outputId": "d0bc8a77-95c7-4296-8683-e901e6fc71a0"
      },
      "outputs": [
        {
          "data": {
            "text/html": [
              "<style>#sk-container-id-2 {\n",
              "  /* Definition of color scheme common for light and dark mode */\n",
              "  --sklearn-color-text: black;\n",
              "  --sklearn-color-line: gray;\n",
              "  /* Definition of color scheme for unfitted estimators */\n",
              "  --sklearn-color-unfitted-level-0: #fff5e6;\n",
              "  --sklearn-color-unfitted-level-1: #f6e4d2;\n",
              "  --sklearn-color-unfitted-level-2: #ffe0b3;\n",
              "  --sklearn-color-unfitted-level-3: chocolate;\n",
              "  /* Definition of color scheme for fitted estimators */\n",
              "  --sklearn-color-fitted-level-0: #f0f8ff;\n",
              "  --sklearn-color-fitted-level-1: #d4ebff;\n",
              "  --sklearn-color-fitted-level-2: #b3dbfd;\n",
              "  --sklearn-color-fitted-level-3: cornflowerblue;\n",
              "\n",
              "  /* Specific color for light theme */\n",
              "  --sklearn-color-text-on-default-background: var(--sg-text-color, var(--theme-code-foreground, var(--jp-content-font-color1, black)));\n",
              "  --sklearn-color-background: var(--sg-background-color, var(--theme-background, var(--jp-layout-color0, white)));\n",
              "  --sklearn-color-border-box: var(--sg-text-color, var(--theme-code-foreground, var(--jp-content-font-color1, black)));\n",
              "  --sklearn-color-icon: #696969;\n",
              "\n",
              "  @media (prefers-color-scheme: dark) {\n",
              "    /* Redefinition of color scheme for dark theme */\n",
              "    --sklearn-color-text-on-default-background: var(--sg-text-color, var(--theme-code-foreground, var(--jp-content-font-color1, white)));\n",
              "    --sklearn-color-background: var(--sg-background-color, var(--theme-background, var(--jp-layout-color0, #111)));\n",
              "    --sklearn-color-border-box: var(--sg-text-color, var(--theme-code-foreground, var(--jp-content-font-color1, white)));\n",
              "    --sklearn-color-icon: #878787;\n",
              "  }\n",
              "}\n",
              "\n",
              "#sk-container-id-2 {\n",
              "  color: var(--sklearn-color-text);\n",
              "}\n",
              "\n",
              "#sk-container-id-2 pre {\n",
              "  padding: 0;\n",
              "}\n",
              "\n",
              "#sk-container-id-2 input.sk-hidden--visually {\n",
              "  border: 0;\n",
              "  clip: rect(1px 1px 1px 1px);\n",
              "  clip: rect(1px, 1px, 1px, 1px);\n",
              "  height: 1px;\n",
              "  margin: -1px;\n",
              "  overflow: hidden;\n",
              "  padding: 0;\n",
              "  position: absolute;\n",
              "  width: 1px;\n",
              "}\n",
              "\n",
              "#sk-container-id-2 div.sk-dashed-wrapped {\n",
              "  border: 1px dashed var(--sklearn-color-line);\n",
              "  margin: 0 0.4em 0.5em 0.4em;\n",
              "  box-sizing: border-box;\n",
              "  padding-bottom: 0.4em;\n",
              "  background-color: var(--sklearn-color-background);\n",
              "}\n",
              "\n",
              "#sk-container-id-2 div.sk-container {\n",
              "  /* jupyter's `normalize.less` sets `[hidden] { display: none; }`\n",
              "     but bootstrap.min.css set `[hidden] { display: none !important; }`\n",
              "     so we also need the `!important` here to be able to override the\n",
              "     default hidden behavior on the sphinx rendered scikit-learn.org.\n",
              "     See: https://github.com/scikit-learn/scikit-learn/issues/21755 */\n",
              "  display: inline-block !important;\n",
              "  position: relative;\n",
              "}\n",
              "\n",
              "#sk-container-id-2 div.sk-text-repr-fallback {\n",
              "  display: none;\n",
              "}\n",
              "\n",
              "div.sk-parallel-item,\n",
              "div.sk-serial,\n",
              "div.sk-item {\n",
              "  /* draw centered vertical line to link estimators */\n",
              "  background-image: linear-gradient(var(--sklearn-color-text-on-default-background), var(--sklearn-color-text-on-default-background));\n",
              "  background-size: 2px 100%;\n",
              "  background-repeat: no-repeat;\n",
              "  background-position: center center;\n",
              "}\n",
              "\n",
              "/* Parallel-specific style estimator block */\n",
              "\n",
              "#sk-container-id-2 div.sk-parallel-item::after {\n",
              "  content: \"\";\n",
              "  width: 100%;\n",
              "  border-bottom: 2px solid var(--sklearn-color-text-on-default-background);\n",
              "  flex-grow: 1;\n",
              "}\n",
              "\n",
              "#sk-container-id-2 div.sk-parallel {\n",
              "  display: flex;\n",
              "  align-items: stretch;\n",
              "  justify-content: center;\n",
              "  background-color: var(--sklearn-color-background);\n",
              "  position: relative;\n",
              "}\n",
              "\n",
              "#sk-container-id-2 div.sk-parallel-item {\n",
              "  display: flex;\n",
              "  flex-direction: column;\n",
              "}\n",
              "\n",
              "#sk-container-id-2 div.sk-parallel-item:first-child::after {\n",
              "  align-self: flex-end;\n",
              "  width: 50%;\n",
              "}\n",
              "\n",
              "#sk-container-id-2 div.sk-parallel-item:last-child::after {\n",
              "  align-self: flex-start;\n",
              "  width: 50%;\n",
              "}\n",
              "\n",
              "#sk-container-id-2 div.sk-parallel-item:only-child::after {\n",
              "  width: 0;\n",
              "}\n",
              "\n",
              "/* Serial-specific style estimator block */\n",
              "\n",
              "#sk-container-id-2 div.sk-serial {\n",
              "  display: flex;\n",
              "  flex-direction: column;\n",
              "  align-items: center;\n",
              "  background-color: var(--sklearn-color-background);\n",
              "  padding-right: 1em;\n",
              "  padding-left: 1em;\n",
              "}\n",
              "\n",
              "\n",
              "/* Toggleable style: style used for estimator/Pipeline/ColumnTransformer box that is\n",
              "clickable and can be expanded/collapsed.\n",
              "- Pipeline and ColumnTransformer use this feature and define the default style\n",
              "- Estimators will overwrite some part of the style using the `sk-estimator` class\n",
              "*/\n",
              "\n",
              "/* Pipeline and ColumnTransformer style (default) */\n",
              "\n",
              "#sk-container-id-2 div.sk-toggleable {\n",
              "  /* Default theme specific background. It is overwritten whether we have a\n",
              "  specific estimator or a Pipeline/ColumnTransformer */\n",
              "  background-color: var(--sklearn-color-background);\n",
              "}\n",
              "\n",
              "/* Toggleable label */\n",
              "#sk-container-id-2 label.sk-toggleable__label {\n",
              "  cursor: pointer;\n",
              "  display: block;\n",
              "  width: 100%;\n",
              "  margin-bottom: 0;\n",
              "  padding: 0.5em;\n",
              "  box-sizing: border-box;\n",
              "  text-align: center;\n",
              "}\n",
              "\n",
              "#sk-container-id-2 label.sk-toggleable__label-arrow:before {\n",
              "  /* Arrow on the left of the label */\n",
              "  content: \"▸\";\n",
              "  float: left;\n",
              "  margin-right: 0.25em;\n",
              "  color: var(--sklearn-color-icon);\n",
              "}\n",
              "\n",
              "#sk-container-id-2 label.sk-toggleable__label-arrow:hover:before {\n",
              "  color: var(--sklearn-color-text);\n",
              "}\n",
              "\n",
              "/* Toggleable content - dropdown */\n",
              "\n",
              "#sk-container-id-2 div.sk-toggleable__content {\n",
              "  max-height: 0;\n",
              "  max-width: 0;\n",
              "  overflow: hidden;\n",
              "  text-align: left;\n",
              "  /* unfitted */\n",
              "  background-color: var(--sklearn-color-unfitted-level-0);\n",
              "}\n",
              "\n",
              "#sk-container-id-2 div.sk-toggleable__content.fitted {\n",
              "  /* fitted */\n",
              "  background-color: var(--sklearn-color-fitted-level-0);\n",
              "}\n",
              "\n",
              "#sk-container-id-2 div.sk-toggleable__content pre {\n",
              "  margin: 0.2em;\n",
              "  border-radius: 0.25em;\n",
              "  color: var(--sklearn-color-text);\n",
              "  /* unfitted */\n",
              "  background-color: var(--sklearn-color-unfitted-level-0);\n",
              "}\n",
              "\n",
              "#sk-container-id-2 div.sk-toggleable__content.fitted pre {\n",
              "  /* unfitted */\n",
              "  background-color: var(--sklearn-color-fitted-level-0);\n",
              "}\n",
              "\n",
              "#sk-container-id-2 input.sk-toggleable__control:checked~div.sk-toggleable__content {\n",
              "  /* Expand drop-down */\n",
              "  max-height: 200px;\n",
              "  max-width: 100%;\n",
              "  overflow: auto;\n",
              "}\n",
              "\n",
              "#sk-container-id-2 input.sk-toggleable__control:checked~label.sk-toggleable__label-arrow:before {\n",
              "  content: \"▾\";\n",
              "}\n",
              "\n",
              "/* Pipeline/ColumnTransformer-specific style */\n",
              "\n",
              "#sk-container-id-2 div.sk-label input.sk-toggleable__control:checked~label.sk-toggleable__label {\n",
              "  color: var(--sklearn-color-text);\n",
              "  background-color: var(--sklearn-color-unfitted-level-2);\n",
              "}\n",
              "\n",
              "#sk-container-id-2 div.sk-label.fitted input.sk-toggleable__control:checked~label.sk-toggleable__label {\n",
              "  background-color: var(--sklearn-color-fitted-level-2);\n",
              "}\n",
              "\n",
              "/* Estimator-specific style */\n",
              "\n",
              "/* Colorize estimator box */\n",
              "#sk-container-id-2 div.sk-estimator input.sk-toggleable__control:checked~label.sk-toggleable__label {\n",
              "  /* unfitted */\n",
              "  background-color: var(--sklearn-color-unfitted-level-2);\n",
              "}\n",
              "\n",
              "#sk-container-id-2 div.sk-estimator.fitted input.sk-toggleable__control:checked~label.sk-toggleable__label {\n",
              "  /* fitted */\n",
              "  background-color: var(--sklearn-color-fitted-level-2);\n",
              "}\n",
              "\n",
              "#sk-container-id-2 div.sk-label label.sk-toggleable__label,\n",
              "#sk-container-id-2 div.sk-label label {\n",
              "  /* The background is the default theme color */\n",
              "  color: var(--sklearn-color-text-on-default-background);\n",
              "}\n",
              "\n",
              "/* On hover, darken the color of the background */\n",
              "#sk-container-id-2 div.sk-label:hover label.sk-toggleable__label {\n",
              "  color: var(--sklearn-color-text);\n",
              "  background-color: var(--sklearn-color-unfitted-level-2);\n",
              "}\n",
              "\n",
              "/* Label box, darken color on hover, fitted */\n",
              "#sk-container-id-2 div.sk-label.fitted:hover label.sk-toggleable__label.fitted {\n",
              "  color: var(--sklearn-color-text);\n",
              "  background-color: var(--sklearn-color-fitted-level-2);\n",
              "}\n",
              "\n",
              "/* Estimator label */\n",
              "\n",
              "#sk-container-id-2 div.sk-label label {\n",
              "  font-family: monospace;\n",
              "  font-weight: bold;\n",
              "  display: inline-block;\n",
              "  line-height: 1.2em;\n",
              "}\n",
              "\n",
              "#sk-container-id-2 div.sk-label-container {\n",
              "  text-align: center;\n",
              "}\n",
              "\n",
              "/* Estimator-specific */\n",
              "#sk-container-id-2 div.sk-estimator {\n",
              "  font-family: monospace;\n",
              "  border: 1px dotted var(--sklearn-color-border-box);\n",
              "  border-radius: 0.25em;\n",
              "  box-sizing: border-box;\n",
              "  margin-bottom: 0.5em;\n",
              "  /* unfitted */\n",
              "  background-color: var(--sklearn-color-unfitted-level-0);\n",
              "}\n",
              "\n",
              "#sk-container-id-2 div.sk-estimator.fitted {\n",
              "  /* fitted */\n",
              "  background-color: var(--sklearn-color-fitted-level-0);\n",
              "}\n",
              "\n",
              "/* on hover */\n",
              "#sk-container-id-2 div.sk-estimator:hover {\n",
              "  /* unfitted */\n",
              "  background-color: var(--sklearn-color-unfitted-level-2);\n",
              "}\n",
              "\n",
              "#sk-container-id-2 div.sk-estimator.fitted:hover {\n",
              "  /* fitted */\n",
              "  background-color: var(--sklearn-color-fitted-level-2);\n",
              "}\n",
              "\n",
              "/* Specification for estimator info (e.g. \"i\" and \"?\") */\n",
              "\n",
              "/* Common style for \"i\" and \"?\" */\n",
              "\n",
              ".sk-estimator-doc-link,\n",
              "a:link.sk-estimator-doc-link,\n",
              "a:visited.sk-estimator-doc-link {\n",
              "  float: right;\n",
              "  font-size: smaller;\n",
              "  line-height: 1em;\n",
              "  font-family: monospace;\n",
              "  background-color: var(--sklearn-color-background);\n",
              "  border-radius: 1em;\n",
              "  height: 1em;\n",
              "  width: 1em;\n",
              "  text-decoration: none !important;\n",
              "  margin-left: 1ex;\n",
              "  /* unfitted */\n",
              "  border: var(--sklearn-color-unfitted-level-1) 1pt solid;\n",
              "  color: var(--sklearn-color-unfitted-level-1);\n",
              "}\n",
              "\n",
              ".sk-estimator-doc-link.fitted,\n",
              "a:link.sk-estimator-doc-link.fitted,\n",
              "a:visited.sk-estimator-doc-link.fitted {\n",
              "  /* fitted */\n",
              "  border: var(--sklearn-color-fitted-level-1) 1pt solid;\n",
              "  color: var(--sklearn-color-fitted-level-1);\n",
              "}\n",
              "\n",
              "/* On hover */\n",
              "div.sk-estimator:hover .sk-estimator-doc-link:hover,\n",
              ".sk-estimator-doc-link:hover,\n",
              "div.sk-label-container:hover .sk-estimator-doc-link:hover,\n",
              ".sk-estimator-doc-link:hover {\n",
              "  /* unfitted */\n",
              "  background-color: var(--sklearn-color-unfitted-level-3);\n",
              "  color: var(--sklearn-color-background);\n",
              "  text-decoration: none;\n",
              "}\n",
              "\n",
              "div.sk-estimator.fitted:hover .sk-estimator-doc-link.fitted:hover,\n",
              ".sk-estimator-doc-link.fitted:hover,\n",
              "div.sk-label-container:hover .sk-estimator-doc-link.fitted:hover,\n",
              ".sk-estimator-doc-link.fitted:hover {\n",
              "  /* fitted */\n",
              "  background-color: var(--sklearn-color-fitted-level-3);\n",
              "  color: var(--sklearn-color-background);\n",
              "  text-decoration: none;\n",
              "}\n",
              "\n",
              "/* Span, style for the box shown on hovering the info icon */\n",
              ".sk-estimator-doc-link span {\n",
              "  display: none;\n",
              "  z-index: 9999;\n",
              "  position: relative;\n",
              "  font-weight: normal;\n",
              "  right: .2ex;\n",
              "  padding: .5ex;\n",
              "  margin: .5ex;\n",
              "  width: min-content;\n",
              "  min-width: 20ex;\n",
              "  max-width: 50ex;\n",
              "  color: var(--sklearn-color-text);\n",
              "  box-shadow: 2pt 2pt 4pt #999;\n",
              "  /* unfitted */\n",
              "  background: var(--sklearn-color-unfitted-level-0);\n",
              "  border: .5pt solid var(--sklearn-color-unfitted-level-3);\n",
              "}\n",
              "\n",
              ".sk-estimator-doc-link.fitted span {\n",
              "  /* fitted */\n",
              "  background: var(--sklearn-color-fitted-level-0);\n",
              "  border: var(--sklearn-color-fitted-level-3);\n",
              "}\n",
              "\n",
              ".sk-estimator-doc-link:hover span {\n",
              "  display: block;\n",
              "}\n",
              "\n",
              "/* \"?\"-specific style due to the `<a>` HTML tag */\n",
              "\n",
              "#sk-container-id-2 a.estimator_doc_link {\n",
              "  float: right;\n",
              "  font-size: 1rem;\n",
              "  line-height: 1em;\n",
              "  font-family: monospace;\n",
              "  background-color: var(--sklearn-color-background);\n",
              "  border-radius: 1rem;\n",
              "  height: 1rem;\n",
              "  width: 1rem;\n",
              "  text-decoration: none;\n",
              "  /* unfitted */\n",
              "  color: var(--sklearn-color-unfitted-level-1);\n",
              "  border: var(--sklearn-color-unfitted-level-1) 1pt solid;\n",
              "}\n",
              "\n",
              "#sk-container-id-2 a.estimator_doc_link.fitted {\n",
              "  /* fitted */\n",
              "  border: var(--sklearn-color-fitted-level-1) 1pt solid;\n",
              "  color: var(--sklearn-color-fitted-level-1);\n",
              "}\n",
              "\n",
              "/* On hover */\n",
              "#sk-container-id-2 a.estimator_doc_link:hover {\n",
              "  /* unfitted */\n",
              "  background-color: var(--sklearn-color-unfitted-level-3);\n",
              "  color: var(--sklearn-color-background);\n",
              "  text-decoration: none;\n",
              "}\n",
              "\n",
              "#sk-container-id-2 a.estimator_doc_link.fitted:hover {\n",
              "  /* fitted */\n",
              "  background-color: var(--sklearn-color-fitted-level-3);\n",
              "}\n",
              "</style><div id=\"sk-container-id-2\" class=\"sk-top-container\"><div class=\"sk-text-repr-fallback\"><pre>KNeighborsClassifier()</pre><b>In a Jupyter environment, please rerun this cell to show the HTML representation or trust the notebook. <br />On GitHub, the HTML representation is unable to render, please try loading this page with nbviewer.org.</b></div><div class=\"sk-container\" hidden><div class=\"sk-item\"><div class=\"sk-estimator fitted sk-toggleable\"><input class=\"sk-toggleable__control sk-hidden--visually\" id=\"sk-estimator-id-2\" type=\"checkbox\" checked><label for=\"sk-estimator-id-2\" class=\"sk-toggleable__label fitted sk-toggleable__label-arrow fitted\">&nbsp;&nbsp;KNeighborsClassifier<a class=\"sk-estimator-doc-link fitted\" rel=\"noreferrer\" target=\"_blank\" href=\"https://scikit-learn.org/1.5/modules/generated/sklearn.neighbors.KNeighborsClassifier.html\">?<span>Documentation for KNeighborsClassifier</span></a><span class=\"sk-estimator-doc-link fitted\">i<span>Fitted</span></span></label><div class=\"sk-toggleable__content fitted\"><pre>KNeighborsClassifier()</pre></div> </div></div></div></div>"
            ],
            "text/plain": [
              "KNeighborsClassifier()"
            ]
          },
          "execution_count": 38,
          "metadata": {},
          "output_type": "execute_result"
        }
      ],
      "source": [
        "#Model untuk KNN\n",
        "knn_classifier = KNeighborsClassifier(n_neighbors=5)\n",
        "knn_classifier.fit(X, y)"
      ]
    },
    {
      "cell_type": "code",
      "execution_count": 39,
      "metadata": {
        "colab": {
          "base_uri": "https://localhost:8080/",
          "height": 75
        },
        "id": "u83HepBWpYf4",
        "outputId": "2a586576-db71-4979-9cd5-86b59efa6bcc"
      },
      "outputs": [
        {
          "data": {
            "text/html": [
              "<style>#sk-container-id-3 {\n",
              "  /* Definition of color scheme common for light and dark mode */\n",
              "  --sklearn-color-text: black;\n",
              "  --sklearn-color-line: gray;\n",
              "  /* Definition of color scheme for unfitted estimators */\n",
              "  --sklearn-color-unfitted-level-0: #fff5e6;\n",
              "  --sklearn-color-unfitted-level-1: #f6e4d2;\n",
              "  --sklearn-color-unfitted-level-2: #ffe0b3;\n",
              "  --sklearn-color-unfitted-level-3: chocolate;\n",
              "  /* Definition of color scheme for fitted estimators */\n",
              "  --sklearn-color-fitted-level-0: #f0f8ff;\n",
              "  --sklearn-color-fitted-level-1: #d4ebff;\n",
              "  --sklearn-color-fitted-level-2: #b3dbfd;\n",
              "  --sklearn-color-fitted-level-3: cornflowerblue;\n",
              "\n",
              "  /* Specific color for light theme */\n",
              "  --sklearn-color-text-on-default-background: var(--sg-text-color, var(--theme-code-foreground, var(--jp-content-font-color1, black)));\n",
              "  --sklearn-color-background: var(--sg-background-color, var(--theme-background, var(--jp-layout-color0, white)));\n",
              "  --sklearn-color-border-box: var(--sg-text-color, var(--theme-code-foreground, var(--jp-content-font-color1, black)));\n",
              "  --sklearn-color-icon: #696969;\n",
              "\n",
              "  @media (prefers-color-scheme: dark) {\n",
              "    /* Redefinition of color scheme for dark theme */\n",
              "    --sklearn-color-text-on-default-background: var(--sg-text-color, var(--theme-code-foreground, var(--jp-content-font-color1, white)));\n",
              "    --sklearn-color-background: var(--sg-background-color, var(--theme-background, var(--jp-layout-color0, #111)));\n",
              "    --sklearn-color-border-box: var(--sg-text-color, var(--theme-code-foreground, var(--jp-content-font-color1, white)));\n",
              "    --sklearn-color-icon: #878787;\n",
              "  }\n",
              "}\n",
              "\n",
              "#sk-container-id-3 {\n",
              "  color: var(--sklearn-color-text);\n",
              "}\n",
              "\n",
              "#sk-container-id-3 pre {\n",
              "  padding: 0;\n",
              "}\n",
              "\n",
              "#sk-container-id-3 input.sk-hidden--visually {\n",
              "  border: 0;\n",
              "  clip: rect(1px 1px 1px 1px);\n",
              "  clip: rect(1px, 1px, 1px, 1px);\n",
              "  height: 1px;\n",
              "  margin: -1px;\n",
              "  overflow: hidden;\n",
              "  padding: 0;\n",
              "  position: absolute;\n",
              "  width: 1px;\n",
              "}\n",
              "\n",
              "#sk-container-id-3 div.sk-dashed-wrapped {\n",
              "  border: 1px dashed var(--sklearn-color-line);\n",
              "  margin: 0 0.4em 0.5em 0.4em;\n",
              "  box-sizing: border-box;\n",
              "  padding-bottom: 0.4em;\n",
              "  background-color: var(--sklearn-color-background);\n",
              "}\n",
              "\n",
              "#sk-container-id-3 div.sk-container {\n",
              "  /* jupyter's `normalize.less` sets `[hidden] { display: none; }`\n",
              "     but bootstrap.min.css set `[hidden] { display: none !important; }`\n",
              "     so we also need the `!important` here to be able to override the\n",
              "     default hidden behavior on the sphinx rendered scikit-learn.org.\n",
              "     See: https://github.com/scikit-learn/scikit-learn/issues/21755 */\n",
              "  display: inline-block !important;\n",
              "  position: relative;\n",
              "}\n",
              "\n",
              "#sk-container-id-3 div.sk-text-repr-fallback {\n",
              "  display: none;\n",
              "}\n",
              "\n",
              "div.sk-parallel-item,\n",
              "div.sk-serial,\n",
              "div.sk-item {\n",
              "  /* draw centered vertical line to link estimators */\n",
              "  background-image: linear-gradient(var(--sklearn-color-text-on-default-background), var(--sklearn-color-text-on-default-background));\n",
              "  background-size: 2px 100%;\n",
              "  background-repeat: no-repeat;\n",
              "  background-position: center center;\n",
              "}\n",
              "\n",
              "/* Parallel-specific style estimator block */\n",
              "\n",
              "#sk-container-id-3 div.sk-parallel-item::after {\n",
              "  content: \"\";\n",
              "  width: 100%;\n",
              "  border-bottom: 2px solid var(--sklearn-color-text-on-default-background);\n",
              "  flex-grow: 1;\n",
              "}\n",
              "\n",
              "#sk-container-id-3 div.sk-parallel {\n",
              "  display: flex;\n",
              "  align-items: stretch;\n",
              "  justify-content: center;\n",
              "  background-color: var(--sklearn-color-background);\n",
              "  position: relative;\n",
              "}\n",
              "\n",
              "#sk-container-id-3 div.sk-parallel-item {\n",
              "  display: flex;\n",
              "  flex-direction: column;\n",
              "}\n",
              "\n",
              "#sk-container-id-3 div.sk-parallel-item:first-child::after {\n",
              "  align-self: flex-end;\n",
              "  width: 50%;\n",
              "}\n",
              "\n",
              "#sk-container-id-3 div.sk-parallel-item:last-child::after {\n",
              "  align-self: flex-start;\n",
              "  width: 50%;\n",
              "}\n",
              "\n",
              "#sk-container-id-3 div.sk-parallel-item:only-child::after {\n",
              "  width: 0;\n",
              "}\n",
              "\n",
              "/* Serial-specific style estimator block */\n",
              "\n",
              "#sk-container-id-3 div.sk-serial {\n",
              "  display: flex;\n",
              "  flex-direction: column;\n",
              "  align-items: center;\n",
              "  background-color: var(--sklearn-color-background);\n",
              "  padding-right: 1em;\n",
              "  padding-left: 1em;\n",
              "}\n",
              "\n",
              "\n",
              "/* Toggleable style: style used for estimator/Pipeline/ColumnTransformer box that is\n",
              "clickable and can be expanded/collapsed.\n",
              "- Pipeline and ColumnTransformer use this feature and define the default style\n",
              "- Estimators will overwrite some part of the style using the `sk-estimator` class\n",
              "*/\n",
              "\n",
              "/* Pipeline and ColumnTransformer style (default) */\n",
              "\n",
              "#sk-container-id-3 div.sk-toggleable {\n",
              "  /* Default theme specific background. It is overwritten whether we have a\n",
              "  specific estimator or a Pipeline/ColumnTransformer */\n",
              "  background-color: var(--sklearn-color-background);\n",
              "}\n",
              "\n",
              "/* Toggleable label */\n",
              "#sk-container-id-3 label.sk-toggleable__label {\n",
              "  cursor: pointer;\n",
              "  display: block;\n",
              "  width: 100%;\n",
              "  margin-bottom: 0;\n",
              "  padding: 0.5em;\n",
              "  box-sizing: border-box;\n",
              "  text-align: center;\n",
              "}\n",
              "\n",
              "#sk-container-id-3 label.sk-toggleable__label-arrow:before {\n",
              "  /* Arrow on the left of the label */\n",
              "  content: \"▸\";\n",
              "  float: left;\n",
              "  margin-right: 0.25em;\n",
              "  color: var(--sklearn-color-icon);\n",
              "}\n",
              "\n",
              "#sk-container-id-3 label.sk-toggleable__label-arrow:hover:before {\n",
              "  color: var(--sklearn-color-text);\n",
              "}\n",
              "\n",
              "/* Toggleable content - dropdown */\n",
              "\n",
              "#sk-container-id-3 div.sk-toggleable__content {\n",
              "  max-height: 0;\n",
              "  max-width: 0;\n",
              "  overflow: hidden;\n",
              "  text-align: left;\n",
              "  /* unfitted */\n",
              "  background-color: var(--sklearn-color-unfitted-level-0);\n",
              "}\n",
              "\n",
              "#sk-container-id-3 div.sk-toggleable__content.fitted {\n",
              "  /* fitted */\n",
              "  background-color: var(--sklearn-color-fitted-level-0);\n",
              "}\n",
              "\n",
              "#sk-container-id-3 div.sk-toggleable__content pre {\n",
              "  margin: 0.2em;\n",
              "  border-radius: 0.25em;\n",
              "  color: var(--sklearn-color-text);\n",
              "  /* unfitted */\n",
              "  background-color: var(--sklearn-color-unfitted-level-0);\n",
              "}\n",
              "\n",
              "#sk-container-id-3 div.sk-toggleable__content.fitted pre {\n",
              "  /* unfitted */\n",
              "  background-color: var(--sklearn-color-fitted-level-0);\n",
              "}\n",
              "\n",
              "#sk-container-id-3 input.sk-toggleable__control:checked~div.sk-toggleable__content {\n",
              "  /* Expand drop-down */\n",
              "  max-height: 200px;\n",
              "  max-width: 100%;\n",
              "  overflow: auto;\n",
              "}\n",
              "\n",
              "#sk-container-id-3 input.sk-toggleable__control:checked~label.sk-toggleable__label-arrow:before {\n",
              "  content: \"▾\";\n",
              "}\n",
              "\n",
              "/* Pipeline/ColumnTransformer-specific style */\n",
              "\n",
              "#sk-container-id-3 div.sk-label input.sk-toggleable__control:checked~label.sk-toggleable__label {\n",
              "  color: var(--sklearn-color-text);\n",
              "  background-color: var(--sklearn-color-unfitted-level-2);\n",
              "}\n",
              "\n",
              "#sk-container-id-3 div.sk-label.fitted input.sk-toggleable__control:checked~label.sk-toggleable__label {\n",
              "  background-color: var(--sklearn-color-fitted-level-2);\n",
              "}\n",
              "\n",
              "/* Estimator-specific style */\n",
              "\n",
              "/* Colorize estimator box */\n",
              "#sk-container-id-3 div.sk-estimator input.sk-toggleable__control:checked~label.sk-toggleable__label {\n",
              "  /* unfitted */\n",
              "  background-color: var(--sklearn-color-unfitted-level-2);\n",
              "}\n",
              "\n",
              "#sk-container-id-3 div.sk-estimator.fitted input.sk-toggleable__control:checked~label.sk-toggleable__label {\n",
              "  /* fitted */\n",
              "  background-color: var(--sklearn-color-fitted-level-2);\n",
              "}\n",
              "\n",
              "#sk-container-id-3 div.sk-label label.sk-toggleable__label,\n",
              "#sk-container-id-3 div.sk-label label {\n",
              "  /* The background is the default theme color */\n",
              "  color: var(--sklearn-color-text-on-default-background);\n",
              "}\n",
              "\n",
              "/* On hover, darken the color of the background */\n",
              "#sk-container-id-3 div.sk-label:hover label.sk-toggleable__label {\n",
              "  color: var(--sklearn-color-text);\n",
              "  background-color: var(--sklearn-color-unfitted-level-2);\n",
              "}\n",
              "\n",
              "/* Label box, darken color on hover, fitted */\n",
              "#sk-container-id-3 div.sk-label.fitted:hover label.sk-toggleable__label.fitted {\n",
              "  color: var(--sklearn-color-text);\n",
              "  background-color: var(--sklearn-color-fitted-level-2);\n",
              "}\n",
              "\n",
              "/* Estimator label */\n",
              "\n",
              "#sk-container-id-3 div.sk-label label {\n",
              "  font-family: monospace;\n",
              "  font-weight: bold;\n",
              "  display: inline-block;\n",
              "  line-height: 1.2em;\n",
              "}\n",
              "\n",
              "#sk-container-id-3 div.sk-label-container {\n",
              "  text-align: center;\n",
              "}\n",
              "\n",
              "/* Estimator-specific */\n",
              "#sk-container-id-3 div.sk-estimator {\n",
              "  font-family: monospace;\n",
              "  border: 1px dotted var(--sklearn-color-border-box);\n",
              "  border-radius: 0.25em;\n",
              "  box-sizing: border-box;\n",
              "  margin-bottom: 0.5em;\n",
              "  /* unfitted */\n",
              "  background-color: var(--sklearn-color-unfitted-level-0);\n",
              "}\n",
              "\n",
              "#sk-container-id-3 div.sk-estimator.fitted {\n",
              "  /* fitted */\n",
              "  background-color: var(--sklearn-color-fitted-level-0);\n",
              "}\n",
              "\n",
              "/* on hover */\n",
              "#sk-container-id-3 div.sk-estimator:hover {\n",
              "  /* unfitted */\n",
              "  background-color: var(--sklearn-color-unfitted-level-2);\n",
              "}\n",
              "\n",
              "#sk-container-id-3 div.sk-estimator.fitted:hover {\n",
              "  /* fitted */\n",
              "  background-color: var(--sklearn-color-fitted-level-2);\n",
              "}\n",
              "\n",
              "/* Specification for estimator info (e.g. \"i\" and \"?\") */\n",
              "\n",
              "/* Common style for \"i\" and \"?\" */\n",
              "\n",
              ".sk-estimator-doc-link,\n",
              "a:link.sk-estimator-doc-link,\n",
              "a:visited.sk-estimator-doc-link {\n",
              "  float: right;\n",
              "  font-size: smaller;\n",
              "  line-height: 1em;\n",
              "  font-family: monospace;\n",
              "  background-color: var(--sklearn-color-background);\n",
              "  border-radius: 1em;\n",
              "  height: 1em;\n",
              "  width: 1em;\n",
              "  text-decoration: none !important;\n",
              "  margin-left: 1ex;\n",
              "  /* unfitted */\n",
              "  border: var(--sklearn-color-unfitted-level-1) 1pt solid;\n",
              "  color: var(--sklearn-color-unfitted-level-1);\n",
              "}\n",
              "\n",
              ".sk-estimator-doc-link.fitted,\n",
              "a:link.sk-estimator-doc-link.fitted,\n",
              "a:visited.sk-estimator-doc-link.fitted {\n",
              "  /* fitted */\n",
              "  border: var(--sklearn-color-fitted-level-1) 1pt solid;\n",
              "  color: var(--sklearn-color-fitted-level-1);\n",
              "}\n",
              "\n",
              "/* On hover */\n",
              "div.sk-estimator:hover .sk-estimator-doc-link:hover,\n",
              ".sk-estimator-doc-link:hover,\n",
              "div.sk-label-container:hover .sk-estimator-doc-link:hover,\n",
              ".sk-estimator-doc-link:hover {\n",
              "  /* unfitted */\n",
              "  background-color: var(--sklearn-color-unfitted-level-3);\n",
              "  color: var(--sklearn-color-background);\n",
              "  text-decoration: none;\n",
              "}\n",
              "\n",
              "div.sk-estimator.fitted:hover .sk-estimator-doc-link.fitted:hover,\n",
              ".sk-estimator-doc-link.fitted:hover,\n",
              "div.sk-label-container:hover .sk-estimator-doc-link.fitted:hover,\n",
              ".sk-estimator-doc-link.fitted:hover {\n",
              "  /* fitted */\n",
              "  background-color: var(--sklearn-color-fitted-level-3);\n",
              "  color: var(--sklearn-color-background);\n",
              "  text-decoration: none;\n",
              "}\n",
              "\n",
              "/* Span, style for the box shown on hovering the info icon */\n",
              ".sk-estimator-doc-link span {\n",
              "  display: none;\n",
              "  z-index: 9999;\n",
              "  position: relative;\n",
              "  font-weight: normal;\n",
              "  right: .2ex;\n",
              "  padding: .5ex;\n",
              "  margin: .5ex;\n",
              "  width: min-content;\n",
              "  min-width: 20ex;\n",
              "  max-width: 50ex;\n",
              "  color: var(--sklearn-color-text);\n",
              "  box-shadow: 2pt 2pt 4pt #999;\n",
              "  /* unfitted */\n",
              "  background: var(--sklearn-color-unfitted-level-0);\n",
              "  border: .5pt solid var(--sklearn-color-unfitted-level-3);\n",
              "}\n",
              "\n",
              ".sk-estimator-doc-link.fitted span {\n",
              "  /* fitted */\n",
              "  background: var(--sklearn-color-fitted-level-0);\n",
              "  border: var(--sklearn-color-fitted-level-3);\n",
              "}\n",
              "\n",
              ".sk-estimator-doc-link:hover span {\n",
              "  display: block;\n",
              "}\n",
              "\n",
              "/* \"?\"-specific style due to the `<a>` HTML tag */\n",
              "\n",
              "#sk-container-id-3 a.estimator_doc_link {\n",
              "  float: right;\n",
              "  font-size: 1rem;\n",
              "  line-height: 1em;\n",
              "  font-family: monospace;\n",
              "  background-color: var(--sklearn-color-background);\n",
              "  border-radius: 1rem;\n",
              "  height: 1rem;\n",
              "  width: 1rem;\n",
              "  text-decoration: none;\n",
              "  /* unfitted */\n",
              "  color: var(--sklearn-color-unfitted-level-1);\n",
              "  border: var(--sklearn-color-unfitted-level-1) 1pt solid;\n",
              "}\n",
              "\n",
              "#sk-container-id-3 a.estimator_doc_link.fitted {\n",
              "  /* fitted */\n",
              "  border: var(--sklearn-color-fitted-level-1) 1pt solid;\n",
              "  color: var(--sklearn-color-fitted-level-1);\n",
              "}\n",
              "\n",
              "/* On hover */\n",
              "#sk-container-id-3 a.estimator_doc_link:hover {\n",
              "  /* unfitted */\n",
              "  background-color: var(--sklearn-color-unfitted-level-3);\n",
              "  color: var(--sklearn-color-background);\n",
              "  text-decoration: none;\n",
              "}\n",
              "\n",
              "#sk-container-id-3 a.estimator_doc_link.fitted:hover {\n",
              "  /* fitted */\n",
              "  background-color: var(--sklearn-color-fitted-level-3);\n",
              "}\n",
              "</style><div id=\"sk-container-id-3\" class=\"sk-top-container\"><div class=\"sk-text-repr-fallback\"><pre>RandomForestClassifier(n_estimators=200, random_state=42)</pre><b>In a Jupyter environment, please rerun this cell to show the HTML representation or trust the notebook. <br />On GitHub, the HTML representation is unable to render, please try loading this page with nbviewer.org.</b></div><div class=\"sk-container\" hidden><div class=\"sk-item\"><div class=\"sk-estimator fitted sk-toggleable\"><input class=\"sk-toggleable__control sk-hidden--visually\" id=\"sk-estimator-id-3\" type=\"checkbox\" checked><label for=\"sk-estimator-id-3\" class=\"sk-toggleable__label fitted sk-toggleable__label-arrow fitted\">&nbsp;&nbsp;RandomForestClassifier<a class=\"sk-estimator-doc-link fitted\" rel=\"noreferrer\" target=\"_blank\" href=\"https://scikit-learn.org/1.5/modules/generated/sklearn.ensemble.RandomForestClassifier.html\">?<span>Documentation for RandomForestClassifier</span></a><span class=\"sk-estimator-doc-link fitted\">i<span>Fitted</span></span></label><div class=\"sk-toggleable__content fitted\"><pre>RandomForestClassifier(n_estimators=200, random_state=42)</pre></div> </div></div></div></div>"
            ],
            "text/plain": [
              "RandomForestClassifier(n_estimators=200, random_state=42)"
            ]
          },
          "execution_count": 39,
          "metadata": {},
          "output_type": "execute_result"
        }
      ],
      "source": [
        "#Model untuk Random Forest\n",
        "rf_classifier = RandomForestClassifier(\n",
        "    n_estimators=200,\n",
        "    criterion='gini',\n",
        "    max_depth=None,\n",
        "    min_samples_split=2,\n",
        "    random_state=42,\n",
        ")\n",
        "rf_classifier.fit(X, y)"
      ]
    },
    {
      "cell_type": "code",
      "execution_count": 40,
      "metadata": {
        "id": "ASnopTpj-Xou"
      },
      "outputs": [],
      "source": [
        "y_pred = rf_classifier.predict(X_test)"
      ]
    },
    {
      "cell_type": "code",
      "execution_count": 41,
      "metadata": {
        "colab": {
          "base_uri": "https://localhost:8080/",
          "height": 542
        },
        "id": "PGobUrwY9z_7",
        "outputId": "5939398f-de80-400f-d888-9262dbe7decb"
      },
      "outputs": [
        {
          "ename": "NameError",
          "evalue": "name 'classification_report' is not defined",
          "output_type": "error",
          "traceback": [
            "\u001b[1;31m---------------------------------------------------------------------------\u001b[0m",
            "\u001b[1;31mNameError\u001b[0m                                 Traceback (most recent call last)",
            "Cell \u001b[1;32mIn[41], line 2\u001b[0m\n\u001b[0;32m      1\u001b[0m \u001b[38;5;66;03m# Evaluate the model's performance\u001b[39;00m\n\u001b[1;32m----> 2\u001b[0m report \u001b[38;5;241m=\u001b[39m \u001b[43mclassification_report\u001b[49m(y_test, y_pred, output_dict\u001b[38;5;241m=\u001b[39m\u001b[38;5;28;01mTrue\u001b[39;00m, zero_division\u001b[38;5;241m=\u001b[39m\u001b[38;5;241m0\u001b[39m)\n\u001b[0;32m      4\u001b[0m \u001b[38;5;66;03m# Convert float values in the report to dictionaries\u001b[39;00m\n\u001b[0;32m      5\u001b[0m report \u001b[38;5;241m=\u001b[39m {label: {metric: report[label][metric] \u001b[38;5;28;01mfor\u001b[39;00m metric \u001b[38;5;129;01min\u001b[39;00m report[label]} \u001b[38;5;28;01mfor\u001b[39;00m label \u001b[38;5;129;01min\u001b[39;00m report \u001b[38;5;28;01mif\u001b[39;00m \u001b[38;5;28misinstance\u001b[39m(report[label], \u001b[38;5;28mdict\u001b[39m)}\n",
            "\u001b[1;31mNameError\u001b[0m: name 'classification_report' is not defined"
          ]
        }
      ],
      "source": [
        "# Evaluate the model's performance\n",
        "report = classification_report(y_test, y_pred, output_dict=True, zero_division=0)\n",
        "\n",
        "# Convert float values in the report to dictionaries\n",
        "report = {label: {metric: report[label][metric] for metric in report[label]} for label in report if isinstance(report[label], dict)}\n",
        "\n",
        "# Extract evaluation metrics\n",
        "labels = list(report.keys())\n",
        "evaluation_metrics = ['precision', 'recall', 'f1-score']\n",
        "metric_scores = {metric: [report[label][metric] for label in labels if label in report] for metric in evaluation_metrics}\n",
        "\n",
        "# Visualize the model's performance using a Plotly bar plot\n",
        "fig = go.Figure()\n",
        "for metric in evaluation_metrics:\n",
        "    fig.add_trace(go.Bar(name=metric, x=labels, y=metric_scores[metric]))\n",
        "\n",
        "fig.update_layout(title='Intent Prediction Model Performance',\n",
        "                  xaxis_title='Intent',\n",
        "                  yaxis_title='Score',\n",
        "                  barmode='group')\n",
        "\n",
        "fig.show()"
      ]
    },
    {
      "cell_type": "code",
      "execution_count": null,
      "metadata": {
        "colab": {
          "base_uri": "https://localhost:8080/",
          "height": 75
        },
        "id": "HC2QDawKpYoO",
        "outputId": "6c6b2506-f4c5-4f50-c002-e7a2500c201e"
      },
      "outputs": [
        {
          "data": {
            "text/html": [
              "<style>#sk-container-id-3 {color: black;background-color: white;}#sk-container-id-3 pre{padding: 0;}#sk-container-id-3 div.sk-toggleable {background-color: white;}#sk-container-id-3 label.sk-toggleable__label {cursor: pointer;display: block;width: 100%;margin-bottom: 0;padding: 0.3em;box-sizing: border-box;text-align: center;}#sk-container-id-3 label.sk-toggleable__label-arrow:before {content: \"▸\";float: left;margin-right: 0.25em;color: #696969;}#sk-container-id-3 label.sk-toggleable__label-arrow:hover:before {color: black;}#sk-container-id-3 div.sk-estimator:hover label.sk-toggleable__label-arrow:before {color: black;}#sk-container-id-3 div.sk-toggleable__content {max-height: 0;max-width: 0;overflow: hidden;text-align: left;background-color: #f0f8ff;}#sk-container-id-3 div.sk-toggleable__content pre {margin: 0.2em;color: black;border-radius: 0.25em;background-color: #f0f8ff;}#sk-container-id-3 input.sk-toggleable__control:checked~div.sk-toggleable__content {max-height: 200px;max-width: 100%;overflow: auto;}#sk-container-id-3 input.sk-toggleable__control:checked~label.sk-toggleable__label-arrow:before {content: \"▾\";}#sk-container-id-3 div.sk-estimator input.sk-toggleable__control:checked~label.sk-toggleable__label {background-color: #d4ebff;}#sk-container-id-3 div.sk-label input.sk-toggleable__control:checked~label.sk-toggleable__label {background-color: #d4ebff;}#sk-container-id-3 input.sk-hidden--visually {border: 0;clip: rect(1px 1px 1px 1px);clip: rect(1px, 1px, 1px, 1px);height: 1px;margin: -1px;overflow: hidden;padding: 0;position: absolute;width: 1px;}#sk-container-id-3 div.sk-estimator {font-family: monospace;background-color: #f0f8ff;border: 1px dotted black;border-radius: 0.25em;box-sizing: border-box;margin-bottom: 0.5em;}#sk-container-id-3 div.sk-estimator:hover {background-color: #d4ebff;}#sk-container-id-3 div.sk-parallel-item::after {content: \"\";width: 100%;border-bottom: 1px solid gray;flex-grow: 1;}#sk-container-id-3 div.sk-label:hover label.sk-toggleable__label {background-color: #d4ebff;}#sk-container-id-3 div.sk-serial::before {content: \"\";position: absolute;border-left: 1px solid gray;box-sizing: border-box;top: 0;bottom: 0;left: 50%;z-index: 0;}#sk-container-id-3 div.sk-serial {display: flex;flex-direction: column;align-items: center;background-color: white;padding-right: 0.2em;padding-left: 0.2em;position: relative;}#sk-container-id-3 div.sk-item {position: relative;z-index: 1;}#sk-container-id-3 div.sk-parallel {display: flex;align-items: stretch;justify-content: center;background-color: white;position: relative;}#sk-container-id-3 div.sk-item::before, #sk-container-id-3 div.sk-parallel-item::before {content: \"\";position: absolute;border-left: 1px solid gray;box-sizing: border-box;top: 0;bottom: 0;left: 50%;z-index: -1;}#sk-container-id-3 div.sk-parallel-item {display: flex;flex-direction: column;z-index: 1;position: relative;background-color: white;}#sk-container-id-3 div.sk-parallel-item:first-child::after {align-self: flex-end;width: 50%;}#sk-container-id-3 div.sk-parallel-item:last-child::after {align-self: flex-start;width: 50%;}#sk-container-id-3 div.sk-parallel-item:only-child::after {width: 0;}#sk-container-id-3 div.sk-dashed-wrapped {border: 1px dashed gray;margin: 0 0.4em 0.5em 0.4em;box-sizing: border-box;padding-bottom: 0.4em;background-color: white;}#sk-container-id-3 div.sk-label label {font-family: monospace;font-weight: bold;display: inline-block;line-height: 1.2em;}#sk-container-id-3 div.sk-label-container {text-align: center;}#sk-container-id-3 div.sk-container {/* jupyter's `normalize.less` sets `[hidden] { display: none; }` but bootstrap.min.css set `[hidden] { display: none !important; }` so we also need the `!important` here to be able to override the default hidden behavior on the sphinx rendered scikit-learn.org. See: https://github.com/scikit-learn/scikit-learn/issues/21755 */display: inline-block !important;position: relative;}#sk-container-id-3 div.sk-text-repr-fallback {display: none;}</style><div id=\"sk-container-id-3\" class=\"sk-top-container\"><div class=\"sk-text-repr-fallback\"><pre>SVC(kernel=&#x27;linear&#x27;)</pre><b>In a Jupyter environment, please rerun this cell to show the HTML representation or trust the notebook. <br />On GitHub, the HTML representation is unable to render, please try loading this page with nbviewer.org.</b></div><div class=\"sk-container\" hidden><div class=\"sk-item\"><div class=\"sk-estimator sk-toggleable\"><input class=\"sk-toggleable__control sk-hidden--visually\" id=\"sk-estimator-id-3\" type=\"checkbox\" checked><label for=\"sk-estimator-id-3\" class=\"sk-toggleable__label sk-toggleable__label-arrow\">SVC</label><div class=\"sk-toggleable__content\"><pre>SVC(kernel=&#x27;linear&#x27;)</pre></div></div></div></div></div>"
            ],
            "text/plain": [
              "SVC(kernel='linear')"
            ]
          },
          "execution_count": 24,
          "metadata": {},
          "output_type": "execute_result"
        }
      ],
      "source": [
        "#Model untuk SVM\n",
        "svm_classifier = SVC(kernel='linear', C=1.0)\n",
        "svm_classifier.fit(X, y)"
      ]
    },
    {
      "cell_type": "markdown",
      "metadata": {
        "id": "y0zrC9hspyfh"
      },
      "source": [
        "# Metric Evaluation"
      ]
    },
    {
      "cell_type": "code",
      "execution_count": null,
      "metadata": {
        "id": "mk62pFsInF5t"
      },
      "outputs": [],
      "source": [
        "# Fungsi untuk mendapatkan prediksi dan metrik evaluasi\n",
        "def evaluate_model(classifier, X_test, y_test):\n",
        "    y_pred = classifier.predict(X_test)\n",
        "    accuracy = accuracy_score(y_test, y_pred)\n",
        "    precision = precision_score(y_test, y_pred, average='weighted', zero_division=0)\n",
        "    recall = recall_score(y_test, y_pred, average='weighted', zero_division=0)\n",
        "    f1 = f1_score(y_test, y_pred, average='weighted')\n",
        "    return accuracy, precision, recall, f1"
      ]
    },
    {
      "cell_type": "markdown",
      "metadata": {
        "id": "GLxaeSflp23H"
      },
      "source": [
        "Pembuatan Tabel Data Frame"
      ]
    },
    {
      "cell_type": "code",
      "execution_count": null,
      "metadata": {
        "id": "yJWi6cohpC6Z"
      },
      "outputs": [],
      "source": [
        "results_df = pd.DataFrame(columns=['Model', 'Accuracy', 'Precision', 'Recall', 'F1 Score'])"
      ]
    },
    {
      "cell_type": "code",
      "execution_count": null,
      "metadata": {
        "id": "B1UPqjYmpD-w"
      },
      "outputs": [],
      "source": [
        "def add_to_results(model_name, accuracy, precision, recall, f1):\n",
        "    results_df.loc[len(results_df)] = [model_name, accuracy, precision, recall, f1]"
      ]
    },
    {
      "cell_type": "code",
      "execution_count": null,
      "metadata": {
        "id": "YBg6sBoDpHOL"
      },
      "outputs": [],
      "source": [
        "# Evaluasi model KNN\n",
        "knn_accuracy, knn_precision, knn_recall, knn_f1 = evaluate_model(knn_classifier, X_test, y_test)\n",
        "add_to_results('KNN', knn_accuracy, knn_precision, knn_recall, knn_f1)"
      ]
    },
    {
      "cell_type": "code",
      "execution_count": null,
      "metadata": {
        "id": "rmm6j53Gp9xW"
      },
      "outputs": [],
      "source": [
        "# Evaluasi model Random Forest\n",
        "rf_accuracy, rf_precision, rf_recall, rf_f1 = evaluate_model(rf_classifier, X_test, y_test)\n",
        "add_to_results('Random Forest', rf_accuracy, rf_precision, rf_recall, rf_f1)"
      ]
    },
    {
      "cell_type": "code",
      "execution_count": null,
      "metadata": {
        "id": "LYbJtZCwqAwn"
      },
      "outputs": [],
      "source": [
        "# Evaluasi model SVM\n",
        "svm_accuracy, svm_precision, svm_recall, svm_f1 = evaluate_model(svm_classifier, X_test, y_test)\n",
        "add_to_results('SVM', svm_accuracy, svm_precision, svm_recall, svm_f1)"
      ]
    },
    {
      "cell_type": "code",
      "execution_count": null,
      "metadata": {
        "colab": {
          "base_uri": "https://localhost:8080/"
        },
        "id": "GgXNPHLDqEGg",
        "outputId": "8e098407-a3fc-4e6d-a784-25a40e8350fe"
      },
      "outputs": [
        {
          "name": "stdout",
          "output_type": "stream",
          "text": [
            "\n",
            "Hasil Evaluasi Model:\n",
            "           Model  Accuracy  Precision    Recall  F1 Score\n",
            "0            KNN  0.228070   0.239766  0.228070  0.221637\n",
            "1  Random Forest  0.894737   0.938596  0.894737  0.907602\n",
            "2            SVM  0.368421   0.347687  0.368421  0.344194\n"
          ]
        }
      ],
      "source": [
        "# Cetak hasil evaluasi dalam bentuk tabel\n",
        "print(\"\\nHasil Evaluasi Model:\")\n",
        "print(results_df)"
      ]
    },
    {
      "cell_type": "code",
      "execution_count": null,
      "metadata": {
        "colab": {
          "base_uri": "https://localhost:8080/",
          "height": 641
        },
        "id": "pfZTZ41Stj7A",
        "outputId": "9f1975d9-d92f-4c7f-dd1c-51726a5b6f5a"
      },
      "outputs": [
        {
          "data": {
            "image/png": "[encoded data removed]",
            "text/plain": [
              "<Figure size 1400x700 with 1 Axes>"
            ]
          },
          "metadata": {},
          "output_type": "display_data"
        }
      ],
      "source": [
        "import seaborn as sns\n",
        "\n",
        "def plot_evaluation_results(df):\n",
        "    plt.figure(figsize=(14, 7))\n",
        "    sns.barplot(data=df.melt(id_vars='Model', var_name='Metrics', value_name='Score'), x='Metrics', y='Score', hue='Model', palette='viridis')\n",
        "    plt.title('Comparison of Model Evaluation Metrics')\n",
        "    plt.ylabel('Score')\n",
        "    plt.ylim(0, 1)\n",
        "    for index, row in df.iterrows():\n",
        "        for i, val in enumerate(row[1:]):\n",
        "            plt.text(i, val + 0.02, f\"{val:.2f}\", ha='center')\n",
        "    plt.legend(loc='lower right')\n",
        "    plt.show()\n",
        "\n",
        "# Visualisasi hasil evaluasi\n",
        "plot_evaluation_results(results_df)"
      ]
    },
    {
      "cell_type": "markdown",
      "metadata": {
        "id": "jI-fbRifqHIZ"
      },
      "source": [
        "# Testing the response chatbot"
      ]
    },
    {
      "cell_type": "code",
      "execution_count": null,
      "metadata": {
        "id": "B7tt9pPon344"
      },
      "outputs": [],
      "source": [
        "def get_response_lstm(input_text):\n",
        "    # Pembersihan teks\n",
        "    input_clean = clean_text(input_text)\n",
        "    # Tokenisasi dan padding teks input\n",
        "    input_sequence = tokenizer.texts_to_sequences([input_clean])\n",
        "    input_padded = pad_sequences(input_sequence, maxlen=X.shape[1], padding='post')\n",
        "\n",
        "    # Prediksi menggunakan model LSTM\n",
        "    prediction = model.predict(input_padded)\n",
        "    predicted_index = np.argmax(prediction, axis=1)[0]\n",
        "\n",
        "    # Dapatkan label intent yang diprediksi\n",
        "    intent_label = lbl_enc.inverse_transform([predicted_index])[0]\n",
        "\n",
        "    # Pilih respons acak yang sesuai dengan label intent\n",
        "    response = random.choice([res for intent in data['intents'] if intent['tag'] == intent_label for res in intent['responses']])\n",
        "\n",
        "    return response"
      ]
    },
    {
      "cell_type": "code",
      "execution_count": null,
      "metadata": {
        "id": "EyA2REDZn52M"
      },
      "outputs": [],
      "source": [
        "# Fungsi untuk mendapatkan respons dari Random Forest\n",
        "def get_response_rf(input_text):\n",
        "    input_clean = clean_text(input_text)\n",
        "    input_sequence = tokenizer.texts_to_sequences([input_clean])\n",
        "    input_padded = pad_sequences(input_sequence, maxlen=X.shape[1], padding='post')\n",
        "    prediction = rf_classifier.predict(input_padded)\n",
        "    intent_label = lbl_enc.inverse_transform([prediction])[0]\n",
        "    response = random.choice([res for intent in data['intents'] if intent['tag'] == intent_label for res in intent['responses']])\n",
        "    return response"
      ]
    },
    {
      "cell_type": "code",
      "execution_count": null,
      "metadata": {
        "id": "d62JtjC5n7aN"
      },
      "outputs": [],
      "source": [
        "# Fungsi untuk mendapatkan respons dari SVM\n",
        "def get_response_svm(input_text):\n",
        "    input_clean = clean_text(input_text)\n",
        "    input_sequence = tokenizer.texts_to_sequences([input_clean])\n",
        "    input_padded = pad_sequences(input_sequence, maxlen=X.shape[1], padding='post')\n",
        "    prediction = svm_classifier.predict(input_padded)\n",
        "    intent_label = lbl_enc.inverse_transform([prediction])[0]\n",
        "    response = random.choice([res for intent in data['intents'] if intent['tag'] == intent_label for res in intent['responses']])\n",
        "    return response"
      ]
    },
    {
      "cell_type": "code",
      "execution_count": null,
      "metadata": {
        "colab": {
          "base_uri": "https://localhost:8080/",
          "height": 356
        },
        "id": "RkmO_oi2Vlxn",
        "outputId": "f528de16-fb51-4e90-939f-369fc3943563"
      },
      "outputs": [
        {
          "ename": "KeyboardInterrupt",
          "evalue": "Interrupted by user",
          "output_type": "error",
          "traceback": [
            "\u001b[0;31m---------------------------------------------------------------------------\u001b[0m",
            "\u001b[0;31mKeyboardInterrupt\u001b[0m                         Traceback (most recent call last)",
            "\u001b[0;32m<ipython-input-36-e8ed738d96b2>\u001b[0m in \u001b[0;36m<cell line: 2>\u001b[0;34m()\u001b[0m\n\u001b[1;32m      1\u001b[0m \u001b[0;31m# Interaksi dengan pengguna\u001b[0m\u001b[0;34m\u001b[0m\u001b[0;34m\u001b[0m\u001b[0m\n\u001b[1;32m      2\u001b[0m \u001b[0;32mwhile\u001b[0m \u001b[0;32mTrue\u001b[0m\u001b[0;34m:\u001b[0m\u001b[0;34m\u001b[0m\u001b[0;34m\u001b[0m\u001b[0m\n\u001b[0;32m----> 3\u001b[0;31m     \u001b[0muser_input\u001b[0m \u001b[0;34m=\u001b[0m \u001b[0minput\u001b[0m\u001b[0;34m(\u001b[0m\u001b[0;34m\"You: \"\u001b[0m\u001b[0;34m)\u001b[0m\u001b[0;34m\u001b[0m\u001b[0;34m\u001b[0m\u001b[0m\n\u001b[0m\u001b[1;32m      4\u001b[0m     \u001b[0;32mif\u001b[0m \u001b[0muser_input\u001b[0m\u001b[0;34m.\u001b[0m\u001b[0mlower\u001b[0m\u001b[0;34m(\u001b[0m\u001b[0;34m)\u001b[0m \u001b[0;34m==\u001b[0m \u001b[0;34m'quit'\u001b[0m\u001b[0;34m:\u001b[0m\u001b[0;34m\u001b[0m\u001b[0;34m\u001b[0m\u001b[0m\n\u001b[1;32m      5\u001b[0m         \u001b[0;32mbreak\u001b[0m\u001b[0;34m\u001b[0m\u001b[0;34m\u001b[0m\u001b[0m\n",
            "\u001b[0;32m/usr/local/lib/python3.10/dist-packages/ipykernel/kernelbase.py\u001b[0m in \u001b[0;36mraw_input\u001b[0;34m(self, prompt)\u001b[0m\n\u001b[1;32m    849\u001b[0m                 \u001b[0;34m\"raw_input was called, but this frontend does not support input requests.\"\u001b[0m\u001b[0;34m\u001b[0m\u001b[0;34m\u001b[0m\u001b[0m\n\u001b[1;32m    850\u001b[0m             )\n\u001b[0;32m--> 851\u001b[0;31m         return self._input_request(str(prompt),\n\u001b[0m\u001b[1;32m    852\u001b[0m             \u001b[0mself\u001b[0m\u001b[0;34m.\u001b[0m\u001b[0m_parent_ident\u001b[0m\u001b[0;34m,\u001b[0m\u001b[0;34m\u001b[0m\u001b[0;34m\u001b[0m\u001b[0m\n\u001b[1;32m    853\u001b[0m             \u001b[0mself\u001b[0m\u001b[0;34m.\u001b[0m\u001b[0m_parent_header\u001b[0m\u001b[0;34m,\u001b[0m\u001b[0;34m\u001b[0m\u001b[0;34m\u001b[0m\u001b[0m\n",
            "\u001b[0;32m/usr/local/lib/python3.10/dist-packages/ipykernel/kernelbase.py\u001b[0m in \u001b[0;36m_input_request\u001b[0;34m(self, prompt, ident, parent, password)\u001b[0m\n\u001b[1;32m    893\u001b[0m             \u001b[0;32mexcept\u001b[0m \u001b[0mKeyboardInterrupt\u001b[0m\u001b[0;34m:\u001b[0m\u001b[0;34m\u001b[0m\u001b[0;34m\u001b[0m\u001b[0m\n\u001b[1;32m    894\u001b[0m                 \u001b[0;31m# re-raise KeyboardInterrupt, to truncate traceback\u001b[0m\u001b[0;34m\u001b[0m\u001b[0;34m\u001b[0m\u001b[0m\n\u001b[0;32m--> 895\u001b[0;31m                 \u001b[0;32mraise\u001b[0m \u001b[0mKeyboardInterrupt\u001b[0m\u001b[0;34m(\u001b[0m\u001b[0;34m\"Interrupted by user\"\u001b[0m\u001b[0;34m)\u001b[0m \u001b[0;32mfrom\u001b[0m \u001b[0;32mNone\u001b[0m\u001b[0;34m\u001b[0m\u001b[0;34m\u001b[0m\u001b[0m\n\u001b[0m\u001b[1;32m    896\u001b[0m             \u001b[0;32mexcept\u001b[0m \u001b[0mException\u001b[0m \u001b[0;32mas\u001b[0m \u001b[0me\u001b[0m\u001b[0;34m:\u001b[0m\u001b[0;34m\u001b[0m\u001b[0;34m\u001b[0m\u001b[0m\n\u001b[1;32m    897\u001b[0m                 \u001b[0mself\u001b[0m\u001b[0;34m.\u001b[0m\u001b[0mlog\u001b[0m\u001b[0;34m.\u001b[0m\u001b[0mwarning\u001b[0m\u001b[0;34m(\u001b[0m\u001b[0;34m\"Invalid Message:\"\u001b[0m\u001b[0;34m,\u001b[0m \u001b[0mexc_info\u001b[0m\u001b[0;34m=\u001b[0m\u001b[0;32mTrue\u001b[0m\u001b[0;34m)\u001b[0m\u001b[0;34m\u001b[0m\u001b[0;34m\u001b[0m\u001b[0m\n",
            "\u001b[0;31mKeyboardInterrupt\u001b[0m: Interrupted by user"
          ]
        }
      ],
      "source": [
        "# Interaksi dengan pengguna\n",
        "while True:\n",
        "    user_input = input(\"You: \")\n",
        "    if user_input.lower() == 'quit':\n",
        "        break\n",
        "    bot_response_knn = get_response_lstm(user_input)\n",
        "    bot_response_rf = get_response_rf(user_input)\n",
        "    bot_response_svm = get_response_svm(user_input)\n",
        "    print(\"Bot (LSTM):\", bot_response_knn)\n",
        "    print(\"Bot (Random Forest):\", bot_response_rf)\n",
        "    print(\"Bot (SVM):\", bot_response_svm)"
      ]
    },
    {
      "cell_type": "code",
      "execution_count": null,
      "metadata": {
        "colab": {
          "base_uri": "https://localhost:8080/"
        },
        "id": "URmyrIdclgtt",
        "outputId": "e61b075d-4459-4095-9773-59f06011d275"
      },
      "outputs": [
        {
          "name": "stdout",
          "output_type": "stream",
          "text": [
            "Writing app.py\n"
          ]
        }
      ],
      "source": [
        "%%writefile app.py\n",
        "\n",
        "\n",
        "import streamlit as st\n",
        "\n",
        "def main():\n",
        "# Streamlit App\n",
        "  st.title(\"Chatbot Mental Health\")\n",
        "\n",
        "  # Initialize chat history\n",
        "  if \"messages\" not in st.session_state:\n",
        "      st.session_state.messages = []\n",
        "\n",
        "  # Display chat messages from history on app rerun\n",
        "  for message in st.session_state.messages:\n",
        "      with st.chat_message(message[\"role\"]):\n",
        "          st.markdown(message[\"content\"])\n",
        "\n",
        "  # Accept user input\n",
        "  if prompt := st.chat_input(\"What is up?\"):\n",
        "      # Add user message to chat history\n",
        "      st.session_state.messages.append({\"role\": \"user\", \"content\": prompt})\n",
        "      # Display user message in chat message container\n",
        "      with st.chat_message(\"user\"):\n",
        "          st.markdown(prompt)\n",
        "\n",
        "      # Get assistant response\n",
        "      response = get_response_lstm(prompt)\n",
        "      # Add assistant response to chat history\n",
        "      st.session_state.messages.append({\"role\": \"assistant\", \"content\": response})\n",
        "      # Display assistant response in chat message container\n",
        "      with st.chat_message(\"assistant\"):\n",
        "          st.markdown(response)\n",
        "  if __name__ == \"__main__\":\n",
        "      main()"
      ]
    },
    {
      "cell_type": "code",
      "execution_count": null,
      "metadata": {
        "colab": {
          "base_uri": "https://localhost:8080/"
        },
        "id": "bJtqlX2Znp6f",
        "outputId": "2e9e0beb-a23d-467f-bbf9-902d0baff345"
      },
      "outputs": [
        {
          "name": "stdout",
          "output_type": "stream",
          "text": [
            "\u001b[K\u001b[?25h\u001b[37;40mnpm\u001b[0m \u001b[0m\u001b[30;43mWARN\u001b[0m \u001b[0m\u001b[35msaveError\u001b[0m ENOENT: no such file or directory, open '/content/package.json'\n",
            "\u001b[0m\u001b[37;40mnpm\u001b[0m \u001b[0m\u001b[34;40mnotice\u001b[0m\u001b[35m\u001b[0m created a lockfile as package-lock.json. You should commit this file.\n",
            "\u001b[0m\u001b[37;40mnpm\u001b[0m \u001b[0m\u001b[30;43mWARN\u001b[0m \u001b[0m\u001b[35menoent\u001b[0m ENOENT: no such file or directory, open '/content/package.json'\n",
            "\u001b[0m\u001b[37;40mnpm\u001b[0m \u001b[0m\u001b[30;43mWARN\u001b[0m\u001b[35m\u001b[0m content No description\n",
            "\u001b[0m\u001b[37;40mnpm\u001b[0m \u001b[0m\u001b[30;43mWARN\u001b[0m\u001b[35m\u001b[0m content No repository field.\n",
            "\u001b[0m\u001b[37;40mnpm\u001b[0m \u001b[0m\u001b[30;43mWARN\u001b[0m\u001b[35m\u001b[0m content No README data\n",
            "\u001b[0m\u001b[37;40mnpm\u001b[0m \u001b[0m\u001b[30;43mWARN\u001b[0m\u001b[35m\u001b[0m content No license field.\n",
            "\u001b[0m\n",
            "+ localtunnel@2.0.2\n",
            "added 22 packages from 22 contributors and audited 22 packages in 3.845s\n",
            "\n",
            "3 packages are looking for funding\n",
            "  run `npm fund` for details\n",
            "\n",
            "found 1 \u001b[93mmoderate\u001b[0m severity vulnerability\n",
            "  run `npm audit fix` to fix them, or `npm audit` for details\n",
            "\u001b[K\u001b[?25h"
          ]
        }
      ],
      "source": [
        "!npm install localtunnel"
      ]
    },
    {
      "cell_type": "code",
      "execution_count": null,
      "metadata": {
        "colab": {
          "base_uri": "https://localhost:8080/"
        },
        "id": "2OTnen-Pnv3z",
        "outputId": "7875c837-96c9-4e39-a9df-70942741572e"
      },
      "outputs": [
        {
          "name": "stdout",
          "output_type": "stream",
          "text": [
            "34.106.27.59\n"
          ]
        }
      ],
      "source": [
        "!wget -q -O - ipv4.icanhazip.com"
      ]
    },
    {
      "cell_type": "code",
      "execution_count": null,
      "metadata": {
        "colab": {
          "background_save": true,
          "base_uri": "https://localhost:8080/"
        },
        "id": "qihKgTN7l3Md",
        "outputId": "9589b211-2df7-4296-9cbc-0ed695138941"
      },
      "outputs": [
        {
          "name": "stdout",
          "output_type": "stream",
          "text": [
            "\n",
            "Collecting usage statistics. To deactivate, set browser.gatherUsageStats to false.\n",
            "\u001b[0m\n",
            "\u001b[0m\n",
            "\u001b[34m\u001b[1m  You can now view your Streamlit app in your browser.\u001b[0m\n",
            "\u001b[0m\n",
            "\u001b[34m  Local URL: \u001b[0m\u001b[1mhttp://localhost:8501\u001b[0m\n",
            "\u001b[34m  Network URL: \u001b[0m\u001b[1mhttp://172.28.0.12:8501\u001b[0m\n",
            "\u001b[34m  External URL: \u001b[0m\u001b[1mhttp://34.106.27.59:8501\u001b[0m\n",
            "\u001b[0m\n",
            "\u001b[K\u001b[?25hnpx: installed 22 in 2.977s\n",
            "your url is: https://plenty-waves-open.loca.lt\n"
          ]
        }
      ],
      "source": [
        "!streamlit run app.py & npx localtunnel --port 8501"
      ]
    }
  ],
  "metadata": {
    "colab": {
      "provenance": []
    },
    "kernelspec": {
      "display_name": "Python 3",
      "name": "python3"
    },
    "language_info": {
      "codemirror_mode": {
        "name": "ipython",
        "version": 3
      },
      "file_extension": ".py",
      "mimetype": "text/x-python",
      "name": "python",
      "nbconvert_exporter": "python",
      "pygments_lexer": "ipython3",
      "version": "3.12.4"
    }
  },
  "nbformat": 4,
  "nbformat_minor": 0
}
